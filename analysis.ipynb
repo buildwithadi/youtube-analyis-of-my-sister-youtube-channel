{
 "cells": [
  {
   "cell_type": "markdown",
   "id": "7d986259",
   "metadata": {},
   "source": [
    "## ▶️ YouTube Analytics - SuuZ"
   ]
  },
  {
   "cell_type": "markdown",
   "id": "abe9ba7c",
   "metadata": {},
   "source": [
    "SuuZ is my sister's youtube channel, where she use to upload content related to here study and productivity in 2020 during Covid-19 Lockdown. Currently, the channel is not running, but it have a good amount of data. My sister was able to gain:\n",
    "\n",
    "- Subscribers : 281\n",
    "- Views : 61,600 \n",
    "- Likes : 1400\n",
    "- Comments : 72\n",
    "- Shares : 122\n",
    "\n",
    "Using the data which I fetched from the Youtube Analytics, I am going to answer few questions regarding the growth of the channel."
   ]
  },
  {
   "cell_type": "markdown",
   "id": "236aae1c",
   "metadata": {},
   "source": [
    "### **Questions**:"
   ]
  },
  {
   "cell_type": "markdown",
   "id": "b307ab28",
   "metadata": {},
   "source": [
    "**Correlation Analysis**\n",
    "\n",
    "1. Views and watch time – Are longer watch times associated with higher views?\n",
    "\n",
    "2. Views and subscribers – Do more views translate to more subscribers?\n",
    "\n",
    "3. Impressions and Click-Through Rate (CTR%) – Does a stronger impression lead to better engagement?\n",
    "\n",
    "4. Watch time and average view duration – Are longer videos watched more?\n",
    "\n",
    "**Audience Retention Analysis**\n",
    "\n",
    "1. Average view duration vs. Video length – Are longer videos watched in full?\n",
    "\n",
    "2. Drop-off points – Which duration range has the best retention?\n",
    "\n",
    "3. Retention Rate (%) – Watch time divided by duration?\n",
    "\n",
    "**Performance & Growth Analysis**\n",
    "\n",
    "1. Which videos gained the most subscribers per 1000 views?\n",
    "\n",
    "2. Which video has the highest watch time per view?\n",
    "\n",
    "3. Which type of video (topic/length) performs best overall?\n",
    "\n",
    "4. Are older videos still getting views (long-tail effect)?\n",
    "\n",
    "5. Is there a pattern between publish day/time and performance?"
   ]
  },
  {
   "cell_type": "markdown",
   "id": "464f201f",
   "metadata": {},
   "source": [
    "Here are the columns in the dataset:\n",
    "\n",
    "- `Content`: The video id\n",
    "\n",
    "- `Video title`: The video title\n",
    " \n",
    "- `Video publish time`: The day the video was published\n",
    " \n",
    "- `Duration`: The video duration in seconds\n",
    "\n",
    "- `Views`: The number of views per video\n",
    " \n",
    "- `Watch time`: The estimated amount of video watch time by your audience in hours\n",
    " \n",
    "- `Subscribers`: Change in total subscribers found by subtracting subscribers lost from subscribers gained for the selected date and region.\n",
    " \n",
    "- `Average view duration`: Estimated average minutes watched per video.\n",
    " \n",
    "- `Impressions`: Number of times your videos were shown to viewers.\n",
    " \n",
    "- `Impressions click-through rate (%)`: Number of times viewers clicked your video after seeing an impression"
   ]
  },
  {
   "cell_type": "code",
   "execution_count": 1321,
   "id": "5dabfe6b",
   "metadata": {},
   "outputs": [],
   "source": [
    "import pandas as pd\n",
    "import numpy as np\n",
    "import seaborn as sns\n",
    "import matplotlib.pyplot as plt"
   ]
  },
  {
   "cell_type": "code",
   "execution_count": 1322,
   "id": "968519f4",
   "metadata": {},
   "outputs": [],
   "source": [
    "data = pd.read_csv(\"Table data.csv\")"
   ]
  },
  {
   "cell_type": "code",
   "execution_count": 1323,
   "id": "2259a974",
   "metadata": {},
   "outputs": [
    {
     "data": {
      "text/html": [
       "<div>\n",
       "<style scoped>\n",
       "    .dataframe tbody tr th:only-of-type {\n",
       "        vertical-align: middle;\n",
       "    }\n",
       "\n",
       "    .dataframe tbody tr th {\n",
       "        vertical-align: top;\n",
       "    }\n",
       "\n",
       "    .dataframe thead th {\n",
       "        text-align: right;\n",
       "    }\n",
       "</style>\n",
       "<table border=\"1\" class=\"dataframe\">\n",
       "  <thead>\n",
       "    <tr style=\"text-align: right;\">\n",
       "      <th></th>\n",
       "      <th>Content</th>\n",
       "      <th>Video title</th>\n",
       "      <th>Video publish time</th>\n",
       "      <th>Duration</th>\n",
       "      <th>Views</th>\n",
       "      <th>Watch time (hours)</th>\n",
       "      <th>Subscribers</th>\n",
       "      <th>Impressions</th>\n",
       "      <th>Impressions click-through rate (%)</th>\n",
       "    </tr>\n",
       "  </thead>\n",
       "  <tbody>\n",
       "    <tr>\n",
       "      <th>0</th>\n",
       "      <td>Total</td>\n",
       "      <td>NaN</td>\n",
       "      <td>NaN</td>\n",
       "      <td>NaN</td>\n",
       "      <td>61685</td>\n",
       "      <td>1384.3735</td>\n",
       "      <td>281</td>\n",
       "      <td>843001</td>\n",
       "      <td>6.31</td>\n",
       "    </tr>\n",
       "    <tr>\n",
       "      <th>1</th>\n",
       "      <td>oEDe6JMwL7Q</td>\n",
       "      <td>Study room make over for NEET aspriant || suuz</td>\n",
       "      <td>Apr 29, 2020</td>\n",
       "      <td>292.0</td>\n",
       "      <td>58005</td>\n",
       "      <td>1321.6783</td>\n",
       "      <td>269</td>\n",
       "      <td>797168</td>\n",
       "      <td>6.32</td>\n",
       "    </tr>\n",
       "    <tr>\n",
       "      <th>2</th>\n",
       "      <td>uu4Cy28Q4Vk</td>\n",
       "      <td>being a one day NEET aspirant || suuz study</td>\n",
       "      <td>Jun 17, 2020</td>\n",
       "      <td>375.0</td>\n",
       "      <td>395</td>\n",
       "      <td>6.1052</td>\n",
       "      <td>3</td>\n",
       "      <td>5256</td>\n",
       "      <td>6.35</td>\n",
       "    </tr>\n",
       "    <tr>\n",
       "      <th>3</th>\n",
       "      <td>4LKXRgTeh0c</td>\n",
       "      <td>ANIME JOURNAL w/me || Izuku Midoriya || Part 1||</td>\n",
       "      <td>Apr 11, 2021</td>\n",
       "      <td>573.0</td>\n",
       "      <td>343</td>\n",
       "      <td>6.6874</td>\n",
       "      <td>6</td>\n",
       "      <td>4382</td>\n",
       "      <td>5.89</td>\n",
       "    </tr>\n",
       "    <tr>\n",
       "      <th>4</th>\n",
       "      <td>9mtaTslQues</td>\n",
       "      <td>5 Study hacks || it's Tania || HACKS || #withme</td>\n",
       "      <td>Jun 9, 2020</td>\n",
       "      <td>384.0</td>\n",
       "      <td>268</td>\n",
       "      <td>5.4395</td>\n",
       "      <td>2</td>\n",
       "      <td>3326</td>\n",
       "      <td>6.76</td>\n",
       "    </tr>\n",
       "  </tbody>\n",
       "</table>\n",
       "</div>"
      ],
      "text/plain": [
       "       Content                                       Video title  \\\n",
       "0        Total                                               NaN   \n",
       "1  oEDe6JMwL7Q    Study room make over for NEET aspriant || suuz   \n",
       "2  uu4Cy28Q4Vk       being a one day NEET aspirant || suuz study   \n",
       "3  4LKXRgTeh0c  ANIME JOURNAL w/me || Izuku Midoriya || Part 1||   \n",
       "4  9mtaTslQues   5 Study hacks || it's Tania || HACKS || #withme   \n",
       "\n",
       "  Video publish time  Duration  Views  Watch time (hours)  Subscribers  \\\n",
       "0                NaN       NaN  61685           1384.3735          281   \n",
       "1       Apr 29, 2020     292.0  58005           1321.6783          269   \n",
       "2       Jun 17, 2020     375.0    395              6.1052            3   \n",
       "3       Apr 11, 2021     573.0    343              6.6874            6   \n",
       "4        Jun 9, 2020     384.0    268              5.4395            2   \n",
       "\n",
       "   Impressions  Impressions click-through rate (%)  \n",
       "0       843001                                6.31  \n",
       "1       797168                                6.32  \n",
       "2         5256                                6.35  \n",
       "3         4382                                5.89  \n",
       "4         3326                                6.76  "
      ]
     },
     "execution_count": 1323,
     "metadata": {},
     "output_type": "execute_result"
    }
   ],
   "source": [
    "data.head()"
   ]
  },
  {
   "cell_type": "code",
   "execution_count": 1324,
   "id": "5df5ae3a",
   "metadata": {},
   "outputs": [],
   "source": [
    "data.drop(columns=[\"Content\"], inplace=True)"
   ]
  },
  {
   "cell_type": "code",
   "execution_count": 1325,
   "id": "d2db8c06",
   "metadata": {},
   "outputs": [
    {
     "data": {
      "text/html": [
       "<div>\n",
       "<style scoped>\n",
       "    .dataframe tbody tr th:only-of-type {\n",
       "        vertical-align: middle;\n",
       "    }\n",
       "\n",
       "    .dataframe tbody tr th {\n",
       "        vertical-align: top;\n",
       "    }\n",
       "\n",
       "    .dataframe thead th {\n",
       "        text-align: right;\n",
       "    }\n",
       "</style>\n",
       "<table border=\"1\" class=\"dataframe\">\n",
       "  <thead>\n",
       "    <tr style=\"text-align: right;\">\n",
       "      <th></th>\n",
       "      <th>Video title</th>\n",
       "      <th>Video publish time</th>\n",
       "      <th>Duration</th>\n",
       "      <th>Views</th>\n",
       "      <th>Watch time (hours)</th>\n",
       "      <th>Subscribers</th>\n",
       "      <th>Impressions</th>\n",
       "      <th>Impressions click-through rate (%)</th>\n",
       "    </tr>\n",
       "  </thead>\n",
       "  <tbody>\n",
       "    <tr>\n",
       "      <th>0</th>\n",
       "      <td>NaN</td>\n",
       "      <td>NaN</td>\n",
       "      <td>NaN</td>\n",
       "      <td>61685</td>\n",
       "      <td>1384.3735</td>\n",
       "      <td>281</td>\n",
       "      <td>843001</td>\n",
       "      <td>6.31</td>\n",
       "    </tr>\n",
       "    <tr>\n",
       "      <th>1</th>\n",
       "      <td>Study room make over for NEET aspriant || suuz</td>\n",
       "      <td>Apr 29, 2020</td>\n",
       "      <td>292.0</td>\n",
       "      <td>58005</td>\n",
       "      <td>1321.6783</td>\n",
       "      <td>269</td>\n",
       "      <td>797168</td>\n",
       "      <td>6.32</td>\n",
       "    </tr>\n",
       "    <tr>\n",
       "      <th>2</th>\n",
       "      <td>being a one day NEET aspirant || suuz study</td>\n",
       "      <td>Jun 17, 2020</td>\n",
       "      <td>375.0</td>\n",
       "      <td>395</td>\n",
       "      <td>6.1052</td>\n",
       "      <td>3</td>\n",
       "      <td>5256</td>\n",
       "      <td>6.35</td>\n",
       "    </tr>\n",
       "    <tr>\n",
       "      <th>3</th>\n",
       "      <td>ANIME JOURNAL w/me || Izuku Midoriya || Part 1||</td>\n",
       "      <td>Apr 11, 2021</td>\n",
       "      <td>573.0</td>\n",
       "      <td>343</td>\n",
       "      <td>6.6874</td>\n",
       "      <td>6</td>\n",
       "      <td>4382</td>\n",
       "      <td>5.89</td>\n",
       "    </tr>\n",
       "    <tr>\n",
       "      <th>4</th>\n",
       "      <td>5 Study hacks || it's Tania || HACKS || #withme</td>\n",
       "      <td>Jun 9, 2020</td>\n",
       "      <td>384.0</td>\n",
       "      <td>268</td>\n",
       "      <td>5.4395</td>\n",
       "      <td>2</td>\n",
       "      <td>3326</td>\n",
       "      <td>6.76</td>\n",
       "    </tr>\n",
       "  </tbody>\n",
       "</table>\n",
       "</div>"
      ],
      "text/plain": [
       "                                        Video title Video publish time  \\\n",
       "0                                               NaN                NaN   \n",
       "1    Study room make over for NEET aspriant || suuz       Apr 29, 2020   \n",
       "2       being a one day NEET aspirant || suuz study       Jun 17, 2020   \n",
       "3  ANIME JOURNAL w/me || Izuku Midoriya || Part 1||       Apr 11, 2021   \n",
       "4   5 Study hacks || it's Tania || HACKS || #withme        Jun 9, 2020   \n",
       "\n",
       "   Duration  Views  Watch time (hours)  Subscribers  Impressions  \\\n",
       "0       NaN  61685           1384.3735          281       843001   \n",
       "1     292.0  58005           1321.6783          269       797168   \n",
       "2     375.0    395              6.1052            3         5256   \n",
       "3     573.0    343              6.6874            6         4382   \n",
       "4     384.0    268              5.4395            2         3326   \n",
       "\n",
       "   Impressions click-through rate (%)  \n",
       "0                                6.31  \n",
       "1                                6.32  \n",
       "2                                6.35  \n",
       "3                                5.89  \n",
       "4                                6.76  "
      ]
     },
     "execution_count": 1325,
     "metadata": {},
     "output_type": "execute_result"
    }
   ],
   "source": [
    "data.head()"
   ]
  },
  {
   "cell_type": "code",
   "execution_count": 1326,
   "id": "fce61dcd",
   "metadata": {},
   "outputs": [],
   "source": [
    "data.drop(index=0, inplace=True)"
   ]
  },
  {
   "cell_type": "code",
   "execution_count": 1327,
   "id": "8a1f3fef",
   "metadata": {},
   "outputs": [
    {
     "data": {
      "text/html": [
       "<div>\n",
       "<style scoped>\n",
       "    .dataframe tbody tr th:only-of-type {\n",
       "        vertical-align: middle;\n",
       "    }\n",
       "\n",
       "    .dataframe tbody tr th {\n",
       "        vertical-align: top;\n",
       "    }\n",
       "\n",
       "    .dataframe thead th {\n",
       "        text-align: right;\n",
       "    }\n",
       "</style>\n",
       "<table border=\"1\" class=\"dataframe\">\n",
       "  <thead>\n",
       "    <tr style=\"text-align: right;\">\n",
       "      <th></th>\n",
       "      <th>Video title</th>\n",
       "      <th>Video publish time</th>\n",
       "      <th>Duration</th>\n",
       "      <th>Views</th>\n",
       "      <th>Watch time (hours)</th>\n",
       "      <th>Subscribers</th>\n",
       "      <th>Impressions</th>\n",
       "      <th>Impressions click-through rate (%)</th>\n",
       "    </tr>\n",
       "  </thead>\n",
       "  <tbody>\n",
       "    <tr>\n",
       "      <th>1</th>\n",
       "      <td>Study room make over for NEET aspriant || suuz</td>\n",
       "      <td>Apr 29, 2020</td>\n",
       "      <td>292.0</td>\n",
       "      <td>58005</td>\n",
       "      <td>1321.6783</td>\n",
       "      <td>269</td>\n",
       "      <td>797168</td>\n",
       "      <td>6.32</td>\n",
       "    </tr>\n",
       "    <tr>\n",
       "      <th>2</th>\n",
       "      <td>being a one day NEET aspirant || suuz study</td>\n",
       "      <td>Jun 17, 2020</td>\n",
       "      <td>375.0</td>\n",
       "      <td>395</td>\n",
       "      <td>6.1052</td>\n",
       "      <td>3</td>\n",
       "      <td>5256</td>\n",
       "      <td>6.35</td>\n",
       "    </tr>\n",
       "    <tr>\n",
       "      <th>3</th>\n",
       "      <td>ANIME JOURNAL w/me || Izuku Midoriya || Part 1||</td>\n",
       "      <td>Apr 11, 2021</td>\n",
       "      <td>573.0</td>\n",
       "      <td>343</td>\n",
       "      <td>6.6874</td>\n",
       "      <td>6</td>\n",
       "      <td>4382</td>\n",
       "      <td>5.89</td>\n",
       "    </tr>\n",
       "    <tr>\n",
       "      <th>4</th>\n",
       "      <td>5 Study hacks || it's Tania || HACKS || #withme</td>\n",
       "      <td>Jun 9, 2020</td>\n",
       "      <td>384.0</td>\n",
       "      <td>268</td>\n",
       "      <td>5.4395</td>\n",
       "      <td>2</td>\n",
       "      <td>3326</td>\n",
       "      <td>6.76</td>\n",
       "    </tr>\n",
       "    <tr>\n",
       "      <th>5</th>\n",
       "      <td>5 tips for notes making || notes || tips</td>\n",
       "      <td>Apr 21, 2020</td>\n",
       "      <td>219.0</td>\n",
       "      <td>235</td>\n",
       "      <td>3.4274</td>\n",
       "      <td>9</td>\n",
       "      <td>1888</td>\n",
       "      <td>9.16</td>\n",
       "    </tr>\n",
       "  </tbody>\n",
       "</table>\n",
       "</div>"
      ],
      "text/plain": [
       "                                        Video title Video publish time  \\\n",
       "1    Study room make over for NEET aspriant || suuz       Apr 29, 2020   \n",
       "2       being a one day NEET aspirant || suuz study       Jun 17, 2020   \n",
       "3  ANIME JOURNAL w/me || Izuku Midoriya || Part 1||       Apr 11, 2021   \n",
       "4   5 Study hacks || it's Tania || HACKS || #withme        Jun 9, 2020   \n",
       "5          5 tips for notes making || notes || tips       Apr 21, 2020   \n",
       "\n",
       "   Duration  Views  Watch time (hours)  Subscribers  Impressions  \\\n",
       "1     292.0  58005           1321.6783          269       797168   \n",
       "2     375.0    395              6.1052            3         5256   \n",
       "3     573.0    343              6.6874            6         4382   \n",
       "4     384.0    268              5.4395            2         3326   \n",
       "5     219.0    235              3.4274            9         1888   \n",
       "\n",
       "   Impressions click-through rate (%)  \n",
       "1                                6.32  \n",
       "2                                6.35  \n",
       "3                                5.89  \n",
       "4                                6.76  \n",
       "5                                9.16  "
      ]
     },
     "execution_count": 1327,
     "metadata": {},
     "output_type": "execute_result"
    }
   ],
   "source": [
    "data.head()"
   ]
  },
  {
   "cell_type": "code",
   "execution_count": 1328,
   "id": "010689de",
   "metadata": {},
   "outputs": [
    {
     "name": "stdout",
     "output_type": "stream",
     "text": [
      "24\n"
     ]
    }
   ],
   "source": [
    "print(data['Video title'].count())"
   ]
  },
  {
   "cell_type": "code",
   "execution_count": 1329,
   "id": "2d815d34",
   "metadata": {},
   "outputs": [
    {
     "data": {
      "text/plain": [
       "Video title                           0\n",
       "Video publish time                    0\n",
       "Duration                              0\n",
       "Views                                 0\n",
       "Watch time (hours)                    0\n",
       "Subscribers                           0\n",
       "Impressions                           0\n",
       "Impressions click-through rate (%)    0\n",
       "dtype: int64"
      ]
     },
     "execution_count": 1329,
     "metadata": {},
     "output_type": "execute_result"
    }
   ],
   "source": [
    "data.isnull().sum()"
   ]
  },
  {
   "cell_type": "code",
   "execution_count": 1330,
   "id": "b9dfd3c0",
   "metadata": {},
   "outputs": [
    {
     "data": {
      "text/plain": [
       "np.int64(0)"
      ]
     },
     "execution_count": 1330,
     "metadata": {},
     "output_type": "execute_result"
    }
   ],
   "source": [
    "data.duplicated().sum()"
   ]
  },
  {
   "cell_type": "code",
   "execution_count": 1331,
   "id": "6913ac30",
   "metadata": {},
   "outputs": [
    {
     "data": {
      "text/plain": [
       "<Axes: ylabel='Views'>"
      ]
     },
     "execution_count": 1331,
     "metadata": {},
     "output_type": "execute_result"
    },
    {
     "data": {
      "image/png": "[encoded data removed]",
      "text/plain": [
       "<Figure size 640x480 with 1 Axes>"
      ]
     },
     "metadata": {},
     "output_type": "display_data"
    }
   ],
   "source": [
    "sns.boxplot(data=data['Views'])"
   ]
  },
  {
   "cell_type": "markdown",
   "id": "5c08b56e",
   "metadata": {},
   "source": [
    "Here one of my sister's video went viral and got 58,000 views, I have to remove this video's details. Else it would create an imbalance in the data. You can check it already on the above boxplot."
   ]
  },
  {
   "cell_type": "code",
   "execution_count": 1332,
   "id": "92bb968f",
   "metadata": {},
   "outputs": [],
   "source": [
    "data.drop(index=1, inplace=True)"
   ]
  },
  {
   "cell_type": "code",
   "execution_count": 1333,
   "id": "86dbbafb",
   "metadata": {},
   "outputs": [
    {
     "data": {
      "text/plain": [
       "Video title                            object\n",
       "Video publish time                     object\n",
       "Duration                              float64\n",
       "Views                                   int64\n",
       "Watch time (hours)                    float64\n",
       "Subscribers                             int64\n",
       "Impressions                             int64\n",
       "Impressions click-through rate (%)    float64\n",
       "dtype: object"
      ]
     },
     "execution_count": 1333,
     "metadata": {},
     "output_type": "execute_result"
    }
   ],
   "source": [
    "data.dtypes"
   ]
  },
  {
   "cell_type": "code",
   "execution_count": 1334,
   "id": "3e5b9194",
   "metadata": {},
   "outputs": [],
   "source": [
    "data['Video publish time'] = pd.to_datetime(data['Video publish time'])\n",
    "\n",
    "# Sort by date\n",
    "data = data.sort_values(by='Video publish time')"
   ]
  },
  {
   "cell_type": "markdown",
   "id": "88180b20",
   "metadata": {},
   "source": [
    "### **Correlation Analysis**"
   ]
  },
  {
   "cell_type": "markdown",
   "id": "3a4192cf",
   "metadata": {},
   "source": [
    "#### 1. Views and watch time – Are longer watch times associated with higher views?"
   ]
  },
  {
   "cell_type": "code",
   "execution_count": 1335,
   "id": "fa59cc0f",
   "metadata": {},
   "outputs": [],
   "source": [
    "data_watch_time_views = data[['Watch time (hours)', 'Views']]"
   ]
  },
  {
   "cell_type": "code",
   "execution_count": 1336,
   "id": "f83c3a20",
   "metadata": {},
   "outputs": [],
   "source": [
    "data_corr = data_watch_time_views.corr()"
   ]
  },
  {
   "cell_type": "code",
   "execution_count": 1337,
   "id": "e8e9d4b5",
   "metadata": {},
   "outputs": [
    {
     "data": {
      "text/html": [
       "<div>\n",
       "<style scoped>\n",
       "    .dataframe tbody tr th:only-of-type {\n",
       "        vertical-align: middle;\n",
       "    }\n",
       "\n",
       "    .dataframe tbody tr th {\n",
       "        vertical-align: top;\n",
       "    }\n",
       "\n",
       "    .dataframe thead th {\n",
       "        text-align: right;\n",
       "    }\n",
       "</style>\n",
       "<table border=\"1\" class=\"dataframe\">\n",
       "  <thead>\n",
       "    <tr style=\"text-align: right;\">\n",
       "      <th></th>\n",
       "      <th>Watch time (hours)</th>\n",
       "      <th>Views</th>\n",
       "    </tr>\n",
       "  </thead>\n",
       "  <tbody>\n",
       "    <tr>\n",
       "      <th>Watch time (hours)</th>\n",
       "      <td>1.000000</td>\n",
       "      <td>0.863895</td>\n",
       "    </tr>\n",
       "    <tr>\n",
       "      <th>Views</th>\n",
       "      <td>0.863895</td>\n",
       "      <td>1.000000</td>\n",
       "    </tr>\n",
       "  </tbody>\n",
       "</table>\n",
       "</div>"
      ],
      "text/plain": [
       "                    Watch time (hours)     Views\n",
       "Watch time (hours)            1.000000  0.863895\n",
       "Views                         0.863895  1.000000"
      ]
     },
     "execution_count": 1337,
     "metadata": {},
     "output_type": "execute_result"
    }
   ],
   "source": [
    "data_corr"
   ]
  },
  {
   "cell_type": "code",
   "execution_count": 1338,
   "id": "1de3cb00",
   "metadata": {},
   "outputs": [
    {
     "data": {
      "text/plain": [
       "<Axes: >"
      ]
     },
     "execution_count": 1338,
     "metadata": {},
     "output_type": "execute_result"
    },
    {
     "data": {
      "image/png": "[encoded data removed]",
      "text/plain": [
       "<Figure size 640x480 with 2 Axes>"
      ]
     },
     "metadata": {},
     "output_type": "display_data"
    }
   ],
   "source": [
    "sns.heatmap(data=data_corr, annot=True, cmap=\"coolwarm\", fmt='.2f')"
   ]
  },
  {
   "cell_type": "markdown",
   "id": "8c922e8a",
   "metadata": {},
   "source": [
    "#### 2. Views and subscribers – Do more views translate to more subscribers?"
   ]
  },
  {
   "cell_type": "code",
   "execution_count": 1339,
   "id": "195e52c6",
   "metadata": {},
   "outputs": [],
   "source": [
    "data_views_subs = data[['Views','Subscribers']]"
   ]
  },
  {
   "cell_type": "code",
   "execution_count": 1340,
   "id": "1abc61e1",
   "metadata": {},
   "outputs": [],
   "source": [
    "data_views_subs = data_views_subs.sort_values(by='Subscribers')"
   ]
  },
  {
   "cell_type": "code",
   "execution_count": 1341,
   "id": "4346d6bb",
   "metadata": {},
   "outputs": [],
   "source": [
    "data_views_subs = data_views_subs[(data_views_subs['Subscribers'] >= 0)]"
   ]
  },
  {
   "cell_type": "code",
   "execution_count": 1342,
   "id": "2345d07c",
   "metadata": {},
   "outputs": [
    {
     "data": {
      "text/html": [
       "<div>\n",
       "<style scoped>\n",
       "    .dataframe tbody tr th:only-of-type {\n",
       "        vertical-align: middle;\n",
       "    }\n",
       "\n",
       "    .dataframe tbody tr th {\n",
       "        vertical-align: top;\n",
       "    }\n",
       "\n",
       "    .dataframe thead th {\n",
       "        text-align: right;\n",
       "    }\n",
       "</style>\n",
       "<table border=\"1\" class=\"dataframe\">\n",
       "  <thead>\n",
       "    <tr style=\"text-align: right;\">\n",
       "      <th></th>\n",
       "      <th>Views</th>\n",
       "      <th>Subscribers</th>\n",
       "    </tr>\n",
       "  </thead>\n",
       "  <tbody>\n",
       "    <tr>\n",
       "      <th>10</th>\n",
       "      <td>159</td>\n",
       "      <td>0</td>\n",
       "    </tr>\n",
       "    <tr>\n",
       "      <th>17</th>\n",
       "      <td>109</td>\n",
       "      <td>0</td>\n",
       "    </tr>\n",
       "    <tr>\n",
       "      <th>21</th>\n",
       "      <td>76</td>\n",
       "      <td>0</td>\n",
       "    </tr>\n",
       "    <tr>\n",
       "      <th>24</th>\n",
       "      <td>44</td>\n",
       "      <td>0</td>\n",
       "    </tr>\n",
       "    <tr>\n",
       "      <th>23</th>\n",
       "      <td>50</td>\n",
       "      <td>0</td>\n",
       "    </tr>\n",
       "    <tr>\n",
       "      <th>12</th>\n",
       "      <td>146</td>\n",
       "      <td>1</td>\n",
       "    </tr>\n",
       "    <tr>\n",
       "      <th>22</th>\n",
       "      <td>62</td>\n",
       "      <td>1</td>\n",
       "    </tr>\n",
       "    <tr>\n",
       "      <th>15</th>\n",
       "      <td>115</td>\n",
       "      <td>2</td>\n",
       "    </tr>\n",
       "    <tr>\n",
       "      <th>4</th>\n",
       "      <td>268</td>\n",
       "      <td>2</td>\n",
       "    </tr>\n",
       "    <tr>\n",
       "      <th>9</th>\n",
       "      <td>159</td>\n",
       "      <td>2</td>\n",
       "    </tr>\n",
       "    <tr>\n",
       "      <th>11</th>\n",
       "      <td>156</td>\n",
       "      <td>2</td>\n",
       "    </tr>\n",
       "    <tr>\n",
       "      <th>16</th>\n",
       "      <td>110</td>\n",
       "      <td>2</td>\n",
       "    </tr>\n",
       "    <tr>\n",
       "      <th>2</th>\n",
       "      <td>395</td>\n",
       "      <td>3</td>\n",
       "    </tr>\n",
       "    <tr>\n",
       "      <th>8</th>\n",
       "      <td>160</td>\n",
       "      <td>3</td>\n",
       "    </tr>\n",
       "    <tr>\n",
       "      <th>14</th>\n",
       "      <td>117</td>\n",
       "      <td>3</td>\n",
       "    </tr>\n",
       "    <tr>\n",
       "      <th>18</th>\n",
       "      <td>106</td>\n",
       "      <td>3</td>\n",
       "    </tr>\n",
       "    <tr>\n",
       "      <th>13</th>\n",
       "      <td>131</td>\n",
       "      <td>3</td>\n",
       "    </tr>\n",
       "    <tr>\n",
       "      <th>19</th>\n",
       "      <td>93</td>\n",
       "      <td>4</td>\n",
       "    </tr>\n",
       "    <tr>\n",
       "      <th>6</th>\n",
       "      <td>210</td>\n",
       "      <td>5</td>\n",
       "    </tr>\n",
       "    <tr>\n",
       "      <th>3</th>\n",
       "      <td>343</td>\n",
       "      <td>6</td>\n",
       "    </tr>\n",
       "    <tr>\n",
       "      <th>5</th>\n",
       "      <td>235</td>\n",
       "      <td>9</td>\n",
       "    </tr>\n",
       "  </tbody>\n",
       "</table>\n",
       "</div>"
      ],
      "text/plain": [
       "    Views  Subscribers\n",
       "10    159            0\n",
       "17    109            0\n",
       "21     76            0\n",
       "24     44            0\n",
       "23     50            0\n",
       "12    146            1\n",
       "22     62            1\n",
       "15    115            2\n",
       "4     268            2\n",
       "9     159            2\n",
       "11    156            2\n",
       "16    110            2\n",
       "2     395            3\n",
       "8     160            3\n",
       "14    117            3\n",
       "18    106            3\n",
       "13    131            3\n",
       "19     93            4\n",
       "6     210            5\n",
       "3     343            6\n",
       "5     235            9"
      ]
     },
     "execution_count": 1342,
     "metadata": {},
     "output_type": "execute_result"
    }
   ],
   "source": [
    "data_views_subs"
   ]
  },
  {
   "cell_type": "code",
   "execution_count": 1343,
   "id": "ca3fb3aa",
   "metadata": {},
   "outputs": [],
   "source": [
    "data_corr = data_views_subs.corr()"
   ]
  },
  {
   "cell_type": "code",
   "execution_count": 1344,
   "id": "881fd71c",
   "metadata": {},
   "outputs": [
    {
     "data": {
      "text/html": [
       "<div>\n",
       "<style scoped>\n",
       "    .dataframe tbody tr th:only-of-type {\n",
       "        vertical-align: middle;\n",
       "    }\n",
       "\n",
       "    .dataframe tbody tr th {\n",
       "        vertical-align: top;\n",
       "    }\n",
       "\n",
       "    .dataframe thead th {\n",
       "        text-align: right;\n",
       "    }\n",
       "</style>\n",
       "<table border=\"1\" class=\"dataframe\">\n",
       "  <thead>\n",
       "    <tr style=\"text-align: right;\">\n",
       "      <th></th>\n",
       "      <th>Views</th>\n",
       "      <th>Subscribers</th>\n",
       "    </tr>\n",
       "  </thead>\n",
       "  <tbody>\n",
       "    <tr>\n",
       "      <th>Views</th>\n",
       "      <td>1.00000</td>\n",
       "      <td>0.55093</td>\n",
       "    </tr>\n",
       "    <tr>\n",
       "      <th>Subscribers</th>\n",
       "      <td>0.55093</td>\n",
       "      <td>1.00000</td>\n",
       "    </tr>\n",
       "  </tbody>\n",
       "</table>\n",
       "</div>"
      ],
      "text/plain": [
       "               Views  Subscribers\n",
       "Views        1.00000      0.55093\n",
       "Subscribers  0.55093      1.00000"
      ]
     },
     "execution_count": 1344,
     "metadata": {},
     "output_type": "execute_result"
    }
   ],
   "source": [
    "data_corr"
   ]
  },
  {
   "cell_type": "code",
   "execution_count": 1345,
   "id": "beb5f733",
   "metadata": {},
   "outputs": [
    {
     "data": {
      "text/plain": [
       "<Axes: >"
      ]
     },
     "execution_count": 1345,
     "metadata": {},
     "output_type": "execute_result"
    },
    {
     "data": {
      "image/png": "[encoded data removed]",
      "text/plain": [
       "<Figure size 640x480 with 2 Axes>"
      ]
     },
     "metadata": {},
     "output_type": "display_data"
    }
   ],
   "source": [
    "sns.heatmap(data=data_corr, annot=True, cmap=\"coolwarm\", fmt = '.2f')"
   ]
  },
  {
   "cell_type": "markdown",
   "id": "cf676872",
   "metadata": {},
   "source": [
    "#### 3. Impressions and Click-Through Rate (CTR%) – Does a stronger impression lead to better engagement?"
   ]
  },
  {
   "cell_type": "code",
   "execution_count": 1346,
   "id": "9d26b8f1",
   "metadata": {},
   "outputs": [
    {
     "data": {
      "text/html": [
       "<div>\n",
       "<style scoped>\n",
       "    .dataframe tbody tr th:only-of-type {\n",
       "        vertical-align: middle;\n",
       "    }\n",
       "\n",
       "    .dataframe tbody tr th {\n",
       "        vertical-align: top;\n",
       "    }\n",
       "\n",
       "    .dataframe thead th {\n",
       "        text-align: right;\n",
       "    }\n",
       "</style>\n",
       "<table border=\"1\" class=\"dataframe\">\n",
       "  <thead>\n",
       "    <tr style=\"text-align: right;\">\n",
       "      <th></th>\n",
       "      <th>Video title</th>\n",
       "      <th>Video publish time</th>\n",
       "      <th>Duration</th>\n",
       "      <th>Views</th>\n",
       "      <th>Watch time (hours)</th>\n",
       "      <th>Subscribers</th>\n",
       "      <th>Impressions</th>\n",
       "      <th>Impressions click-through rate (%)</th>\n",
       "    </tr>\n",
       "  </thead>\n",
       "  <tbody>\n",
       "    <tr>\n",
       "      <th>19</th>\n",
       "      <td>Bullet journal cover design || journal || part 1</td>\n",
       "      <td>2020-04-11</td>\n",
       "      <td>414.0</td>\n",
       "      <td>93</td>\n",
       "      <td>1.0953</td>\n",
       "      <td>4</td>\n",
       "      <td>533</td>\n",
       "      <td>13.32</td>\n",
       "    </tr>\n",
       "    <tr>\n",
       "      <th>17</th>\n",
       "      <td>How to make cover for journal || journal || pa...</td>\n",
       "      <td>2020-04-12</td>\n",
       "      <td>280.0</td>\n",
       "      <td>109</td>\n",
       "      <td>1.0834</td>\n",
       "      <td>0</td>\n",
       "      <td>1451</td>\n",
       "      <td>6.00</td>\n",
       "    </tr>\n",
       "    <tr>\n",
       "      <th>5</th>\n",
       "      <td>5 tips for notes making || notes || tips</td>\n",
       "      <td>2020-04-21</td>\n",
       "      <td>219.0</td>\n",
       "      <td>235</td>\n",
       "      <td>3.4274</td>\n",
       "      <td>9</td>\n",
       "      <td>1888</td>\n",
       "      <td>9.16</td>\n",
       "    </tr>\n",
       "    <tr>\n",
       "      <th>8</th>\n",
       "      <td>My flip journal || bullet journal || $tudy jou...</td>\n",
       "      <td>2020-05-02</td>\n",
       "      <td>366.0</td>\n",
       "      <td>160</td>\n",
       "      <td>2.9899</td>\n",
       "      <td>3</td>\n",
       "      <td>2142</td>\n",
       "      <td>4.90</td>\n",
       "    </tr>\n",
       "    <tr>\n",
       "      <th>9</th>\n",
       "      <td>Study with us while quarantine || study with u...</td>\n",
       "      <td>2020-05-04</td>\n",
       "      <td>1125.0</td>\n",
       "      <td>159</td>\n",
       "      <td>1.6701</td>\n",
       "      <td>2</td>\n",
       "      <td>2278</td>\n",
       "      <td>4.48</td>\n",
       "    </tr>\n",
       "  </tbody>\n",
       "</table>\n",
       "</div>"
      ],
      "text/plain": [
       "                                          Video title Video publish time  \\\n",
       "19   Bullet journal cover design || journal || part 1         2020-04-11   \n",
       "17  How to make cover for journal || journal || pa...         2020-04-12   \n",
       "5            5 tips for notes making || notes || tips         2020-04-21   \n",
       "8   My flip journal || bullet journal || $tudy jou...         2020-05-02   \n",
       "9   Study with us while quarantine || study with u...         2020-05-04   \n",
       "\n",
       "    Duration  Views  Watch time (hours)  Subscribers  Impressions  \\\n",
       "19     414.0     93              1.0953            4          533   \n",
       "17     280.0    109              1.0834            0         1451   \n",
       "5      219.0    235              3.4274            9         1888   \n",
       "8      366.0    160              2.9899            3         2142   \n",
       "9     1125.0    159              1.6701            2         2278   \n",
       "\n",
       "    Impressions click-through rate (%)  \n",
       "19                               13.32  \n",
       "17                                6.00  \n",
       "5                                 9.16  \n",
       "8                                 4.90  \n",
       "9                                 4.48  "
      ]
     },
     "execution_count": 1346,
     "metadata": {},
     "output_type": "execute_result"
    }
   ],
   "source": [
    "data.head()"
   ]
  },
  {
   "cell_type": "code",
   "execution_count": 1347,
   "id": "2b1746c5",
   "metadata": {},
   "outputs": [],
   "source": [
    "data_implressions_ctr = data[['Impressions','Impressions click-through rate (%)']]"
   ]
  },
  {
   "cell_type": "code",
   "execution_count": 1348,
   "id": "27e92532",
   "metadata": {},
   "outputs": [
    {
     "data": {
      "text/html": [
       "<div>\n",
       "<style scoped>\n",
       "    .dataframe tbody tr th:only-of-type {\n",
       "        vertical-align: middle;\n",
       "    }\n",
       "\n",
       "    .dataframe tbody tr th {\n",
       "        vertical-align: top;\n",
       "    }\n",
       "\n",
       "    .dataframe thead th {\n",
       "        text-align: right;\n",
       "    }\n",
       "</style>\n",
       "<table border=\"1\" class=\"dataframe\">\n",
       "  <thead>\n",
       "    <tr style=\"text-align: right;\">\n",
       "      <th></th>\n",
       "      <th>Impressions</th>\n",
       "      <th>Impressions click-through rate (%)</th>\n",
       "    </tr>\n",
       "  </thead>\n",
       "  <tbody>\n",
       "    <tr>\n",
       "      <th>19</th>\n",
       "      <td>533</td>\n",
       "      <td>13.32</td>\n",
       "    </tr>\n",
       "    <tr>\n",
       "      <th>17</th>\n",
       "      <td>1451</td>\n",
       "      <td>6.00</td>\n",
       "    </tr>\n",
       "    <tr>\n",
       "      <th>5</th>\n",
       "      <td>1888</td>\n",
       "      <td>9.16</td>\n",
       "    </tr>\n",
       "    <tr>\n",
       "      <th>8</th>\n",
       "      <td>2142</td>\n",
       "      <td>4.90</td>\n",
       "    </tr>\n",
       "    <tr>\n",
       "      <th>9</th>\n",
       "      <td>2278</td>\n",
       "      <td>4.48</td>\n",
       "    </tr>\n",
       "  </tbody>\n",
       "</table>\n",
       "</div>"
      ],
      "text/plain": [
       "    Impressions  Impressions click-through rate (%)\n",
       "19          533                               13.32\n",
       "17         1451                                6.00\n",
       "5          1888                                9.16\n",
       "8          2142                                4.90\n",
       "9          2278                                4.48"
      ]
     },
     "execution_count": 1348,
     "metadata": {},
     "output_type": "execute_result"
    }
   ],
   "source": [
    "data_implressions_ctr.head()"
   ]
  },
  {
   "cell_type": "code",
   "execution_count": 1349,
   "id": "4620bda8",
   "metadata": {},
   "outputs": [],
   "source": [
    "data_corr = data_implressions_ctr.corr()"
   ]
  },
  {
   "cell_type": "code",
   "execution_count": 1350,
   "id": "03ff44ce",
   "metadata": {},
   "outputs": [
    {
     "data": {
      "text/plain": [
       "<Axes: >"
      ]
     },
     "execution_count": 1350,
     "metadata": {},
     "output_type": "execute_result"
    },
    {
     "data": {
      "image/png": "[encoded data removed]",
      "text/plain": [
       "<Figure size 640x480 with 2 Axes>"
      ]
     },
     "metadata": {},
     "output_type": "display_data"
    }
   ],
   "source": [
    "sns.heatmap(data=data_corr, annot=True, cmap='coolwarm', fmt='.2%')"
   ]
  },
  {
   "cell_type": "markdown",
   "id": "67402c0d",
   "metadata": {},
   "source": [
    "#### 4. Watch time and average view duration – Are longer videos watched more?"
   ]
  },
  {
   "cell_type": "code",
   "execution_count": 1351,
   "id": "270b383b",
   "metadata": {},
   "outputs": [
    {
     "data": {
      "text/html": [
       "<div>\n",
       "<style scoped>\n",
       "    .dataframe tbody tr th:only-of-type {\n",
       "        vertical-align: middle;\n",
       "    }\n",
       "\n",
       "    .dataframe tbody tr th {\n",
       "        vertical-align: top;\n",
       "    }\n",
       "\n",
       "    .dataframe thead th {\n",
       "        text-align: right;\n",
       "    }\n",
       "</style>\n",
       "<table border=\"1\" class=\"dataframe\">\n",
       "  <thead>\n",
       "    <tr style=\"text-align: right;\">\n",
       "      <th></th>\n",
       "      <th>Video title</th>\n",
       "      <th>Video publish time</th>\n",
       "      <th>Duration</th>\n",
       "      <th>Views</th>\n",
       "      <th>Watch time (hours)</th>\n",
       "      <th>Subscribers</th>\n",
       "      <th>Impressions</th>\n",
       "      <th>Impressions click-through rate (%)</th>\n",
       "    </tr>\n",
       "  </thead>\n",
       "  <tbody>\n",
       "    <tr>\n",
       "      <th>19</th>\n",
       "      <td>Bullet journal cover design || journal || part 1</td>\n",
       "      <td>2020-04-11</td>\n",
       "      <td>414.0</td>\n",
       "      <td>93</td>\n",
       "      <td>1.0953</td>\n",
       "      <td>4</td>\n",
       "      <td>533</td>\n",
       "      <td>13.32</td>\n",
       "    </tr>\n",
       "    <tr>\n",
       "      <th>17</th>\n",
       "      <td>How to make cover for journal || journal || pa...</td>\n",
       "      <td>2020-04-12</td>\n",
       "      <td>280.0</td>\n",
       "      <td>109</td>\n",
       "      <td>1.0834</td>\n",
       "      <td>0</td>\n",
       "      <td>1451</td>\n",
       "      <td>6.00</td>\n",
       "    </tr>\n",
       "    <tr>\n",
       "      <th>5</th>\n",
       "      <td>5 tips for notes making || notes || tips</td>\n",
       "      <td>2020-04-21</td>\n",
       "      <td>219.0</td>\n",
       "      <td>235</td>\n",
       "      <td>3.4274</td>\n",
       "      <td>9</td>\n",
       "      <td>1888</td>\n",
       "      <td>9.16</td>\n",
       "    </tr>\n",
       "    <tr>\n",
       "      <th>8</th>\n",
       "      <td>My flip journal || bullet journal || $tudy jou...</td>\n",
       "      <td>2020-05-02</td>\n",
       "      <td>366.0</td>\n",
       "      <td>160</td>\n",
       "      <td>2.9899</td>\n",
       "      <td>3</td>\n",
       "      <td>2142</td>\n",
       "      <td>4.90</td>\n",
       "    </tr>\n",
       "    <tr>\n",
       "      <th>9</th>\n",
       "      <td>Study with us while quarantine || study with u...</td>\n",
       "      <td>2020-05-04</td>\n",
       "      <td>1125.0</td>\n",
       "      <td>159</td>\n",
       "      <td>1.6701</td>\n",
       "      <td>2</td>\n",
       "      <td>2278</td>\n",
       "      <td>4.48</td>\n",
       "    </tr>\n",
       "  </tbody>\n",
       "</table>\n",
       "</div>"
      ],
      "text/plain": [
       "                                          Video title Video publish time  \\\n",
       "19   Bullet journal cover design || journal || part 1         2020-04-11   \n",
       "17  How to make cover for journal || journal || pa...         2020-04-12   \n",
       "5            5 tips for notes making || notes || tips         2020-04-21   \n",
       "8   My flip journal || bullet journal || $tudy jou...         2020-05-02   \n",
       "9   Study with us while quarantine || study with u...         2020-05-04   \n",
       "\n",
       "    Duration  Views  Watch time (hours)  Subscribers  Impressions  \\\n",
       "19     414.0     93              1.0953            4          533   \n",
       "17     280.0    109              1.0834            0         1451   \n",
       "5      219.0    235              3.4274            9         1888   \n",
       "8      366.0    160              2.9899            3         2142   \n",
       "9     1125.0    159              1.6701            2         2278   \n",
       "\n",
       "    Impressions click-through rate (%)  \n",
       "19                               13.32  \n",
       "17                                6.00  \n",
       "5                                 9.16  \n",
       "8                                 4.90  \n",
       "9                                 4.48  "
      ]
     },
     "execution_count": 1351,
     "metadata": {},
     "output_type": "execute_result"
    }
   ],
   "source": [
    "data.head()"
   ]
  },
  {
   "cell_type": "code",
   "execution_count": 1352,
   "id": "cbccacf4",
   "metadata": {},
   "outputs": [],
   "source": [
    "data_duration_wt = data[['Duration', 'Watch time (hours)', 'Views']]"
   ]
  },
  {
   "cell_type": "code",
   "execution_count": 1353,
   "id": "13e9aef8",
   "metadata": {},
   "outputs": [
    {
     "name": "stderr",
     "output_type": "stream",
     "text": [
      "C:\\Users\\Aditya\\AppData\\Local\\Temp\\ipykernel_8916\\3159645913.py:1: SettingWithCopyWarning: \n",
      "A value is trying to be set on a copy of a slice from a DataFrame.\n",
      "Try using .loc[row_indexer,col_indexer] = value instead\n",
      "\n",
      "See the caveats in the documentation: https://pandas.pydata.org/pandas-docs/stable/user_guide/indexing.html#returning-a-view-versus-a-copy\n",
      "  data_duration_wt['Watch time (hours)'] = data_duration_wt['Watch time (hours)'] / data_duration_wt['Views']\n"
     ]
    }
   ],
   "source": [
    "data_duration_wt['Watch time (hours)'] = data_duration_wt['Watch time (hours)'] / data_duration_wt['Views']"
   ]
  },
  {
   "cell_type": "code",
   "execution_count": 1354,
   "id": "6ceacfa5",
   "metadata": {},
   "outputs": [
    {
     "data": {
      "text/html": [
       "<div>\n",
       "<style scoped>\n",
       "    .dataframe tbody tr th:only-of-type {\n",
       "        vertical-align: middle;\n",
       "    }\n",
       "\n",
       "    .dataframe tbody tr th {\n",
       "        vertical-align: top;\n",
       "    }\n",
       "\n",
       "    .dataframe thead th {\n",
       "        text-align: right;\n",
       "    }\n",
       "</style>\n",
       "<table border=\"1\" class=\"dataframe\">\n",
       "  <thead>\n",
       "    <tr style=\"text-align: right;\">\n",
       "      <th></th>\n",
       "      <th>Duration</th>\n",
       "      <th>Watch time (hours)</th>\n",
       "      <th>Views</th>\n",
       "    </tr>\n",
       "  </thead>\n",
       "  <tbody>\n",
       "    <tr>\n",
       "      <th>19</th>\n",
       "      <td>414.0</td>\n",
       "      <td>0.011777</td>\n",
       "      <td>93</td>\n",
       "    </tr>\n",
       "    <tr>\n",
       "      <th>17</th>\n",
       "      <td>280.0</td>\n",
       "      <td>0.009939</td>\n",
       "      <td>109</td>\n",
       "    </tr>\n",
       "    <tr>\n",
       "      <th>5</th>\n",
       "      <td>219.0</td>\n",
       "      <td>0.014585</td>\n",
       "      <td>235</td>\n",
       "    </tr>\n",
       "    <tr>\n",
       "      <th>8</th>\n",
       "      <td>366.0</td>\n",
       "      <td>0.018687</td>\n",
       "      <td>160</td>\n",
       "    </tr>\n",
       "    <tr>\n",
       "      <th>9</th>\n",
       "      <td>1125.0</td>\n",
       "      <td>0.010504</td>\n",
       "      <td>159</td>\n",
       "    </tr>\n",
       "  </tbody>\n",
       "</table>\n",
       "</div>"
      ],
      "text/plain": [
       "    Duration  Watch time (hours)  Views\n",
       "19     414.0            0.011777     93\n",
       "17     280.0            0.009939    109\n",
       "5      219.0            0.014585    235\n",
       "8      366.0            0.018687    160\n",
       "9     1125.0            0.010504    159"
      ]
     },
     "execution_count": 1354,
     "metadata": {},
     "output_type": "execute_result"
    }
   ],
   "source": [
    "data_duration_wt.head()"
   ]
  },
  {
   "cell_type": "code",
   "execution_count": 1355,
   "id": "9e108973",
   "metadata": {},
   "outputs": [
    {
     "name": "stderr",
     "output_type": "stream",
     "text": [
      "C:\\Users\\Aditya\\AppData\\Local\\Temp\\ipykernel_8916\\3277890947.py:1: SettingWithCopyWarning: \n",
      "A value is trying to be set on a copy of a slice from a DataFrame\n",
      "\n",
      "See the caveats in the documentation: https://pandas.pydata.org/pandas-docs/stable/user_guide/indexing.html#returning-a-view-versus-a-copy\n",
      "  data_duration_wt.drop(columns='Views', inplace=True)\n"
     ]
    }
   ],
   "source": [
    "data_duration_wt.drop(columns='Views', inplace=True)\n",
    "data_duration_wt = data_duration_wt.rename(columns={'Watch time (hours)':'Avg View Duration'})"
   ]
  },
  {
   "cell_type": "code",
   "execution_count": 1356,
   "id": "868c1a0f",
   "metadata": {},
   "outputs": [
    {
     "data": {
      "text/html": [
       "<div>\n",
       "<style scoped>\n",
       "    .dataframe tbody tr th:only-of-type {\n",
       "        vertical-align: middle;\n",
       "    }\n",
       "\n",
       "    .dataframe tbody tr th {\n",
       "        vertical-align: top;\n",
       "    }\n",
       "\n",
       "    .dataframe thead th {\n",
       "        text-align: right;\n",
       "    }\n",
       "</style>\n",
       "<table border=\"1\" class=\"dataframe\">\n",
       "  <thead>\n",
       "    <tr style=\"text-align: right;\">\n",
       "      <th></th>\n",
       "      <th>Duration</th>\n",
       "      <th>Avg View Duration</th>\n",
       "    </tr>\n",
       "  </thead>\n",
       "  <tbody>\n",
       "    <tr>\n",
       "      <th>Duration</th>\n",
       "      <td>1.000000</td>\n",
       "      <td>0.284382</td>\n",
       "    </tr>\n",
       "    <tr>\n",
       "      <th>Avg View Duration</th>\n",
       "      <td>0.284382</td>\n",
       "      <td>1.000000</td>\n",
       "    </tr>\n",
       "  </tbody>\n",
       "</table>\n",
       "</div>"
      ],
      "text/plain": [
       "                   Duration  Avg View Duration\n",
       "Duration           1.000000           0.284382\n",
       "Avg View Duration  0.284382           1.000000"
      ]
     },
     "execution_count": 1356,
     "metadata": {},
     "output_type": "execute_result"
    }
   ],
   "source": [
    "data_corr = data_duration_wt.corr()\n",
    "data_corr"
   ]
  },
  {
   "cell_type": "code",
   "execution_count": 1357,
   "id": "ad839382",
   "metadata": {},
   "outputs": [
    {
     "data": {
      "text/plain": [
       "<Axes: >"
      ]
     },
     "execution_count": 1357,
     "metadata": {},
     "output_type": "execute_result"
    },
    {
     "data": {
      "image/png": "[encoded data removed]",
      "text/plain": [
       "<Figure size 640x480 with 2 Axes>"
      ]
     },
     "metadata": {},
     "output_type": "display_data"
    }
   ],
   "source": [
    "sns.heatmap(data=data_corr, cmap='coolwarm', annot=True, fmt='.2f')"
   ]
  },
  {
   "cell_type": "markdown",
   "id": "3648a9a4",
   "metadata": {},
   "source": [
    "### **Audience Retention Analysis**"
   ]
  },
  {
   "cell_type": "markdown",
   "id": "41587c8a",
   "metadata": {},
   "source": [
    "#### 1. Average view duration vs. Video length – Are longer videos watched in full?"
   ]
  },
  {
   "cell_type": "code",
   "execution_count": 1358,
   "id": "e4107e44",
   "metadata": {},
   "outputs": [
    {
     "data": {
      "text/html": [
       "<div>\n",
       "<style scoped>\n",
       "    .dataframe tbody tr th:only-of-type {\n",
       "        vertical-align: middle;\n",
       "    }\n",
       "\n",
       "    .dataframe tbody tr th {\n",
       "        vertical-align: top;\n",
       "    }\n",
       "\n",
       "    .dataframe thead th {\n",
       "        text-align: right;\n",
       "    }\n",
       "</style>\n",
       "<table border=\"1\" class=\"dataframe\">\n",
       "  <thead>\n",
       "    <tr style=\"text-align: right;\">\n",
       "      <th></th>\n",
       "      <th>Video title</th>\n",
       "      <th>Video publish time</th>\n",
       "      <th>Duration</th>\n",
       "      <th>Views</th>\n",
       "      <th>Watch time (hours)</th>\n",
       "      <th>Subscribers</th>\n",
       "      <th>Impressions</th>\n",
       "      <th>Impressions click-through rate (%)</th>\n",
       "    </tr>\n",
       "  </thead>\n",
       "  <tbody>\n",
       "    <tr>\n",
       "      <th>19</th>\n",
       "      <td>Bullet journal cover design || journal || part 1</td>\n",
       "      <td>2020-04-11</td>\n",
       "      <td>414.0</td>\n",
       "      <td>93</td>\n",
       "      <td>1.0953</td>\n",
       "      <td>4</td>\n",
       "      <td>533</td>\n",
       "      <td>13.32</td>\n",
       "    </tr>\n",
       "    <tr>\n",
       "      <th>17</th>\n",
       "      <td>How to make cover for journal || journal || pa...</td>\n",
       "      <td>2020-04-12</td>\n",
       "      <td>280.0</td>\n",
       "      <td>109</td>\n",
       "      <td>1.0834</td>\n",
       "      <td>0</td>\n",
       "      <td>1451</td>\n",
       "      <td>6.00</td>\n",
       "    </tr>\n",
       "    <tr>\n",
       "      <th>5</th>\n",
       "      <td>5 tips for notes making || notes || tips</td>\n",
       "      <td>2020-04-21</td>\n",
       "      <td>219.0</td>\n",
       "      <td>235</td>\n",
       "      <td>3.4274</td>\n",
       "      <td>9</td>\n",
       "      <td>1888</td>\n",
       "      <td>9.16</td>\n",
       "    </tr>\n",
       "    <tr>\n",
       "      <th>8</th>\n",
       "      <td>My flip journal || bullet journal || $tudy jou...</td>\n",
       "      <td>2020-05-02</td>\n",
       "      <td>366.0</td>\n",
       "      <td>160</td>\n",
       "      <td>2.9899</td>\n",
       "      <td>3</td>\n",
       "      <td>2142</td>\n",
       "      <td>4.90</td>\n",
       "    </tr>\n",
       "    <tr>\n",
       "      <th>9</th>\n",
       "      <td>Study with us while quarantine || study with u...</td>\n",
       "      <td>2020-05-04</td>\n",
       "      <td>1125.0</td>\n",
       "      <td>159</td>\n",
       "      <td>1.6701</td>\n",
       "      <td>2</td>\n",
       "      <td>2278</td>\n",
       "      <td>4.48</td>\n",
       "    </tr>\n",
       "  </tbody>\n",
       "</table>\n",
       "</div>"
      ],
      "text/plain": [
       "                                          Video title Video publish time  \\\n",
       "19   Bullet journal cover design || journal || part 1         2020-04-11   \n",
       "17  How to make cover for journal || journal || pa...         2020-04-12   \n",
       "5            5 tips for notes making || notes || tips         2020-04-21   \n",
       "8   My flip journal || bullet journal || $tudy jou...         2020-05-02   \n",
       "9   Study with us while quarantine || study with u...         2020-05-04   \n",
       "\n",
       "    Duration  Views  Watch time (hours)  Subscribers  Impressions  \\\n",
       "19     414.0     93              1.0953            4          533   \n",
       "17     280.0    109              1.0834            0         1451   \n",
       "5      219.0    235              3.4274            9         1888   \n",
       "8      366.0    160              2.9899            3         2142   \n",
       "9     1125.0    159              1.6701            2         2278   \n",
       "\n",
       "    Impressions click-through rate (%)  \n",
       "19                               13.32  \n",
       "17                                6.00  \n",
       "5                                 9.16  \n",
       "8                                 4.90  \n",
       "9                                 4.48  "
      ]
     },
     "execution_count": 1358,
     "metadata": {},
     "output_type": "execute_result"
    }
   ],
   "source": [
    "data.head()"
   ]
  },
  {
   "cell_type": "code",
   "execution_count": 1359,
   "id": "f8686c13",
   "metadata": {},
   "outputs": [],
   "source": [
    "data_duration_wt = data[['Duration','Watch time (hours)', 'Views']]"
   ]
  },
  {
   "cell_type": "code",
   "execution_count": 1360,
   "id": "d215b495",
   "metadata": {},
   "outputs": [
    {
     "name": "stderr",
     "output_type": "stream",
     "text": [
      "C:\\Users\\Aditya\\AppData\\Local\\Temp\\ipykernel_8916\\3159645913.py:1: SettingWithCopyWarning: \n",
      "A value is trying to be set on a copy of a slice from a DataFrame.\n",
      "Try using .loc[row_indexer,col_indexer] = value instead\n",
      "\n",
      "See the caveats in the documentation: https://pandas.pydata.org/pandas-docs/stable/user_guide/indexing.html#returning-a-view-versus-a-copy\n",
      "  data_duration_wt['Watch time (hours)'] = data_duration_wt['Watch time (hours)'] / data_duration_wt['Views']\n"
     ]
    }
   ],
   "source": [
    "data_duration_wt['Watch time (hours)'] = data_duration_wt['Watch time (hours)'] / data_duration_wt['Views']"
   ]
  },
  {
   "cell_type": "code",
   "execution_count": 1361,
   "id": "89e9c3e3",
   "metadata": {},
   "outputs": [
    {
     "data": {
      "text/html": [
       "<div>\n",
       "<style scoped>\n",
       "    .dataframe tbody tr th:only-of-type {\n",
       "        vertical-align: middle;\n",
       "    }\n",
       "\n",
       "    .dataframe tbody tr th {\n",
       "        vertical-align: top;\n",
       "    }\n",
       "\n",
       "    .dataframe thead th {\n",
       "        text-align: right;\n",
       "    }\n",
       "</style>\n",
       "<table border=\"1\" class=\"dataframe\">\n",
       "  <thead>\n",
       "    <tr style=\"text-align: right;\">\n",
       "      <th></th>\n",
       "      <th>Duration</th>\n",
       "      <th>Watch time (hours)</th>\n",
       "      <th>Views</th>\n",
       "    </tr>\n",
       "  </thead>\n",
       "  <tbody>\n",
       "    <tr>\n",
       "      <th>19</th>\n",
       "      <td>414.0</td>\n",
       "      <td>0.011777</td>\n",
       "      <td>93</td>\n",
       "    </tr>\n",
       "    <tr>\n",
       "      <th>17</th>\n",
       "      <td>280.0</td>\n",
       "      <td>0.009939</td>\n",
       "      <td>109</td>\n",
       "    </tr>\n",
       "    <tr>\n",
       "      <th>5</th>\n",
       "      <td>219.0</td>\n",
       "      <td>0.014585</td>\n",
       "      <td>235</td>\n",
       "    </tr>\n",
       "    <tr>\n",
       "      <th>8</th>\n",
       "      <td>366.0</td>\n",
       "      <td>0.018687</td>\n",
       "      <td>160</td>\n",
       "    </tr>\n",
       "    <tr>\n",
       "      <th>9</th>\n",
       "      <td>1125.0</td>\n",
       "      <td>0.010504</td>\n",
       "      <td>159</td>\n",
       "    </tr>\n",
       "  </tbody>\n",
       "</table>\n",
       "</div>"
      ],
      "text/plain": [
       "    Duration  Watch time (hours)  Views\n",
       "19     414.0            0.011777     93\n",
       "17     280.0            0.009939    109\n",
       "5      219.0            0.014585    235\n",
       "8      366.0            0.018687    160\n",
       "9     1125.0            0.010504    159"
      ]
     },
     "execution_count": 1361,
     "metadata": {},
     "output_type": "execute_result"
    }
   ],
   "source": [
    "data_duration_wt.head()"
   ]
  },
  {
   "cell_type": "code",
   "execution_count": 1362,
   "id": "69017f09",
   "metadata": {},
   "outputs": [
    {
     "name": "stderr",
     "output_type": "stream",
     "text": [
      "C:\\Users\\Aditya\\AppData\\Local\\Temp\\ipykernel_8916\\3277890947.py:1: SettingWithCopyWarning: \n",
      "A value is trying to be set on a copy of a slice from a DataFrame\n",
      "\n",
      "See the caveats in the documentation: https://pandas.pydata.org/pandas-docs/stable/user_guide/indexing.html#returning-a-view-versus-a-copy\n",
      "  data_duration_wt.drop(columns='Views', inplace=True)\n"
     ]
    }
   ],
   "source": [
    "data_duration_wt.drop(columns='Views', inplace=True)\n",
    "data_duration_wt = data_duration_wt.rename(columns={'Watch time (hours)':'Avg View Duration'})"
   ]
  },
  {
   "cell_type": "code",
   "execution_count": 1363,
   "id": "d49220f8",
   "metadata": {},
   "outputs": [
    {
     "data": {
      "text/html": [
       "<div>\n",
       "<style scoped>\n",
       "    .dataframe tbody tr th:only-of-type {\n",
       "        vertical-align: middle;\n",
       "    }\n",
       "\n",
       "    .dataframe tbody tr th {\n",
       "        vertical-align: top;\n",
       "    }\n",
       "\n",
       "    .dataframe thead th {\n",
       "        text-align: right;\n",
       "    }\n",
       "</style>\n",
       "<table border=\"1\" class=\"dataframe\">\n",
       "  <thead>\n",
       "    <tr style=\"text-align: right;\">\n",
       "      <th></th>\n",
       "      <th>Duration</th>\n",
       "      <th>Avg View Duration</th>\n",
       "    </tr>\n",
       "  </thead>\n",
       "  <tbody>\n",
       "    <tr>\n",
       "      <th>Duration</th>\n",
       "      <td>1.000000</td>\n",
       "      <td>0.284382</td>\n",
       "    </tr>\n",
       "    <tr>\n",
       "      <th>Avg View Duration</th>\n",
       "      <td>0.284382</td>\n",
       "      <td>1.000000</td>\n",
       "    </tr>\n",
       "  </tbody>\n",
       "</table>\n",
       "</div>"
      ],
      "text/plain": [
       "                   Duration  Avg View Duration\n",
       "Duration           1.000000           0.284382\n",
       "Avg View Duration  0.284382           1.000000"
      ]
     },
     "execution_count": 1363,
     "metadata": {},
     "output_type": "execute_result"
    }
   ],
   "source": [
    "data_corr = data_duration_wt.corr()\n",
    "data_corr"
   ]
  },
  {
   "cell_type": "code",
   "execution_count": 1364,
   "id": "125aa212",
   "metadata": {},
   "outputs": [
    {
     "data": {
      "text/plain": [
       "<Axes: >"
      ]
     },
     "execution_count": 1364,
     "metadata": {},
     "output_type": "execute_result"
    },
    {
     "data": {
      "image/png": "[encoded data removed]",
      "text/plain": [
       "<Figure size 640x480 with 2 Axes>"
      ]
     },
     "metadata": {},
     "output_type": "display_data"
    }
   ],
   "source": [
    "sns.heatmap(data=data_corr, cmap='coolwarm', annot=True, fmt='.2f')"
   ]
  },
  {
   "cell_type": "markdown",
   "id": "3a9bc641",
   "metadata": {},
   "source": [
    "#### 2. Drop-off points – Which duration range has the best retention?"
   ]
  },
  {
   "cell_type": "code",
   "execution_count": 1365,
   "id": "3604a349",
   "metadata": {},
   "outputs": [
    {
     "data": {
      "text/html": [
       "<div>\n",
       "<style scoped>\n",
       "    .dataframe tbody tr th:only-of-type {\n",
       "        vertical-align: middle;\n",
       "    }\n",
       "\n",
       "    .dataframe tbody tr th {\n",
       "        vertical-align: top;\n",
       "    }\n",
       "\n",
       "    .dataframe thead th {\n",
       "        text-align: right;\n",
       "    }\n",
       "</style>\n",
       "<table border=\"1\" class=\"dataframe\">\n",
       "  <thead>\n",
       "    <tr style=\"text-align: right;\">\n",
       "      <th></th>\n",
       "      <th>Video title</th>\n",
       "      <th>Video publish time</th>\n",
       "      <th>Duration</th>\n",
       "      <th>Views</th>\n",
       "      <th>Watch time (hours)</th>\n",
       "      <th>Subscribers</th>\n",
       "      <th>Impressions</th>\n",
       "      <th>Impressions click-through rate (%)</th>\n",
       "    </tr>\n",
       "  </thead>\n",
       "  <tbody>\n",
       "    <tr>\n",
       "      <th>19</th>\n",
       "      <td>Bullet journal cover design || journal || part 1</td>\n",
       "      <td>2020-04-11</td>\n",
       "      <td>414.0</td>\n",
       "      <td>93</td>\n",
       "      <td>1.0953</td>\n",
       "      <td>4</td>\n",
       "      <td>533</td>\n",
       "      <td>13.32</td>\n",
       "    </tr>\n",
       "    <tr>\n",
       "      <th>17</th>\n",
       "      <td>How to make cover for journal || journal || pa...</td>\n",
       "      <td>2020-04-12</td>\n",
       "      <td>280.0</td>\n",
       "      <td>109</td>\n",
       "      <td>1.0834</td>\n",
       "      <td>0</td>\n",
       "      <td>1451</td>\n",
       "      <td>6.00</td>\n",
       "    </tr>\n",
       "    <tr>\n",
       "      <th>5</th>\n",
       "      <td>5 tips for notes making || notes || tips</td>\n",
       "      <td>2020-04-21</td>\n",
       "      <td>219.0</td>\n",
       "      <td>235</td>\n",
       "      <td>3.4274</td>\n",
       "      <td>9</td>\n",
       "      <td>1888</td>\n",
       "      <td>9.16</td>\n",
       "    </tr>\n",
       "    <tr>\n",
       "      <th>8</th>\n",
       "      <td>My flip journal || bullet journal || $tudy jou...</td>\n",
       "      <td>2020-05-02</td>\n",
       "      <td>366.0</td>\n",
       "      <td>160</td>\n",
       "      <td>2.9899</td>\n",
       "      <td>3</td>\n",
       "      <td>2142</td>\n",
       "      <td>4.90</td>\n",
       "    </tr>\n",
       "    <tr>\n",
       "      <th>9</th>\n",
       "      <td>Study with us while quarantine || study with u...</td>\n",
       "      <td>2020-05-04</td>\n",
       "      <td>1125.0</td>\n",
       "      <td>159</td>\n",
       "      <td>1.6701</td>\n",
       "      <td>2</td>\n",
       "      <td>2278</td>\n",
       "      <td>4.48</td>\n",
       "    </tr>\n",
       "  </tbody>\n",
       "</table>\n",
       "</div>"
      ],
      "text/plain": [
       "                                          Video title Video publish time  \\\n",
       "19   Bullet journal cover design || journal || part 1         2020-04-11   \n",
       "17  How to make cover for journal || journal || pa...         2020-04-12   \n",
       "5            5 tips for notes making || notes || tips         2020-04-21   \n",
       "8   My flip journal || bullet journal || $tudy jou...         2020-05-02   \n",
       "9   Study with us while quarantine || study with u...         2020-05-04   \n",
       "\n",
       "    Duration  Views  Watch time (hours)  Subscribers  Impressions  \\\n",
       "19     414.0     93              1.0953            4          533   \n",
       "17     280.0    109              1.0834            0         1451   \n",
       "5      219.0    235              3.4274            9         1888   \n",
       "8      366.0    160              2.9899            3         2142   \n",
       "9     1125.0    159              1.6701            2         2278   \n",
       "\n",
       "    Impressions click-through rate (%)  \n",
       "19                               13.32  \n",
       "17                                6.00  \n",
       "5                                 9.16  \n",
       "8                                 4.90  \n",
       "9                                 4.48  "
      ]
     },
     "execution_count": 1365,
     "metadata": {},
     "output_type": "execute_result"
    }
   ],
   "source": [
    "data.head()\n"
   ]
  },
  {
   "cell_type": "code",
   "execution_count": 1366,
   "id": "dfdeb9df",
   "metadata": {},
   "outputs": [
    {
     "name": "stderr",
     "output_type": "stream",
     "text": [
      "C:\\Users\\Aditya\\AppData\\Local\\Temp\\ipykernel_8916\\217604486.py:2: SettingWithCopyWarning: \n",
      "A value is trying to be set on a copy of a slice from a DataFrame.\n",
      "Try using .loc[row_indexer,col_indexer] = value instead\n",
      "\n",
      "See the caveats in the documentation: https://pandas.pydata.org/pandas-docs/stable/user_guide/indexing.html#returning-a-view-versus-a-copy\n",
      "  data_duration_wt['Watch time (hours)'] = data_duration_wt['Watch time (hours)'] / data_duration_wt['Views']\n",
      "C:\\Users\\Aditya\\AppData\\Local\\Temp\\ipykernel_8916\\217604486.py:4: SettingWithCopyWarning: \n",
      "A value is trying to be set on a copy of a slice from a DataFrame\n",
      "\n",
      "See the caveats in the documentation: https://pandas.pydata.org/pandas-docs/stable/user_guide/indexing.html#returning-a-view-versus-a-copy\n",
      "  data_duration_wt.drop(columns='Views', inplace=True)\n"
     ]
    }
   ],
   "source": [
    "data_duration_wt = data[['Duration', 'Watch time (hours)', 'Views']]\n",
    "data_duration_wt['Watch time (hours)'] = data_duration_wt['Watch time (hours)'] / data_duration_wt['Views']\n",
    "data_duration_wt.head()\n",
    "data_duration_wt.drop(columns='Views', inplace=True)\n",
    "data_duration_wt = data_duration_wt.rename(columns={'Watch time (hours)':'Avg View Duration'})"
   ]
  },
  {
   "cell_type": "code",
   "execution_count": 1367,
   "id": "ffb3ac87",
   "metadata": {},
   "outputs": [],
   "source": [
    "data_duration_wt['Avg View Duration'] = data_duration_wt['Avg View Duration'] * 3600"
   ]
  },
  {
   "cell_type": "code",
   "execution_count": 1368,
   "id": "b43a3c1c",
   "metadata": {},
   "outputs": [
    {
     "data": {
      "text/html": [
       "<div>\n",
       "<style scoped>\n",
       "    .dataframe tbody tr th:only-of-type {\n",
       "        vertical-align: middle;\n",
       "    }\n",
       "\n",
       "    .dataframe tbody tr th {\n",
       "        vertical-align: top;\n",
       "    }\n",
       "\n",
       "    .dataframe thead th {\n",
       "        text-align: right;\n",
       "    }\n",
       "</style>\n",
       "<table border=\"1\" class=\"dataframe\">\n",
       "  <thead>\n",
       "    <tr style=\"text-align: right;\">\n",
       "      <th></th>\n",
       "      <th>Duration</th>\n",
       "      <th>Avg View Duration</th>\n",
       "    </tr>\n",
       "  </thead>\n",
       "  <tbody>\n",
       "    <tr>\n",
       "      <th>19</th>\n",
       "      <td>414.0</td>\n",
       "      <td>42.398710</td>\n",
       "    </tr>\n",
       "    <tr>\n",
       "      <th>17</th>\n",
       "      <td>280.0</td>\n",
       "      <td>35.782018</td>\n",
       "    </tr>\n",
       "    <tr>\n",
       "      <th>5</th>\n",
       "      <td>219.0</td>\n",
       "      <td>52.504851</td>\n",
       "    </tr>\n",
       "    <tr>\n",
       "      <th>8</th>\n",
       "      <td>366.0</td>\n",
       "      <td>67.272750</td>\n",
       "    </tr>\n",
       "    <tr>\n",
       "      <th>9</th>\n",
       "      <td>1125.0</td>\n",
       "      <td>37.813585</td>\n",
       "    </tr>\n",
       "  </tbody>\n",
       "</table>\n",
       "</div>"
      ],
      "text/plain": [
       "    Duration  Avg View Duration\n",
       "19     414.0          42.398710\n",
       "17     280.0          35.782018\n",
       "5      219.0          52.504851\n",
       "8      366.0          67.272750\n",
       "9     1125.0          37.813585"
      ]
     },
     "execution_count": 1368,
     "metadata": {},
     "output_type": "execute_result"
    }
   ],
   "source": [
    "data_duration_wt.head()"
   ]
  },
  {
   "cell_type": "code",
   "execution_count": 1369,
   "id": "7bc1ccf8",
   "metadata": {},
   "outputs": [
    {
     "data": {
      "text/plain": [
       "Text(0, 0.5, 'Avg View Duration (Seconds)')"
      ]
     },
     "execution_count": 1369,
     "metadata": {},
     "output_type": "execute_result"
    },
    {
     "data": {
      "image/png": "[encoded data removed]",
      "text/plain": [
       "<Figure size 640x480 with 1 Axes>"
      ]
     },
     "metadata": {},
     "output_type": "display_data"
    }
   ],
   "source": [
    "sns.scatterplot(x = data_duration_wt['Duration'], y = data_duration_wt['Avg View Duration'])\n",
    "plt.ylabel(\"Avg View Duration (Seconds)\")"
   ]
  },
  {
   "cell_type": "markdown",
   "id": "c4d54034",
   "metadata": {},
   "source": [
    "#### 3. Retention Rate (%) – Watch time divided by duration?"
   ]
  },
  {
   "cell_type": "code",
   "execution_count": 1370,
   "id": "ebe03d26",
   "metadata": {},
   "outputs": [],
   "source": [
    "retention_rate = (data['Watch time (hours)'] * 3600) / data['Duration']"
   ]
  },
  {
   "cell_type": "code",
   "execution_count": 1371,
   "id": "afbdcb75",
   "metadata": {},
   "outputs": [
    {
     "data": {
      "text/plain": [
       "19     9.524348\n",
       "17    13.929429\n",
       "5     56.340822\n",
       "8     29.408852\n",
       "9      5.344320\n",
       "20    11.584238\n",
       "4     50.995313\n",
       "2     58.609920\n",
       "6     43.600172\n",
       "15    12.912048\n",
       "7     25.965799\n",
       "12    19.455621\n",
       "11    23.592376\n",
       "10    21.632098\n",
       "21    16.322754\n",
       "22     5.886389\n",
       "24     4.725570\n",
       "23    14.177143\n",
       "13    14.755078\n",
       "3     42.015079\n",
       "18    10.285953\n",
       "14    15.526880\n",
       "16    28.547478\n",
       "dtype: float64"
      ]
     },
     "execution_count": 1371,
     "metadata": {},
     "output_type": "execute_result"
    }
   ],
   "source": [
    "retention_rate"
   ]
  },
  {
   "cell_type": "code",
   "execution_count": 1372,
   "id": "3e3e6414",
   "metadata": {},
   "outputs": [],
   "source": [
    "data['Retention Rate'] = retention_rate"
   ]
  },
  {
   "cell_type": "code",
   "execution_count": 1373,
   "id": "93791d20",
   "metadata": {},
   "outputs": [
    {
     "data": {
      "text/plain": [
       "<Axes: xlabel='Video publish time', ylabel='Retention Rate'>"
      ]
     },
     "execution_count": 1373,
     "metadata": {},
     "output_type": "execute_result"
    },
    {
     "data": {
      "image/png": "[encoded data removed]",
      "text/plain": [
       "<Figure size 640x480 with 1 Axes>"
      ]
     },
     "metadata": {},
     "output_type": "display_data"
    }
   ],
   "source": [
    "sns.lineplot(x = data['Video publish time'], y=data['Retention Rate'])"
   ]
  },
  {
   "cell_type": "markdown",
   "id": "8f76459f",
   "metadata": {},
   "source": [
    "### **Performance and Growth Analysis**"
   ]
  },
  {
   "cell_type": "markdown",
   "id": "3d8537e1",
   "metadata": {},
   "source": [
    "#### 1. Which videos gained the most subscribers per view?\n",
    "\n"
   ]
  },
  {
   "cell_type": "code",
   "execution_count": 1374,
   "id": "2b110f87",
   "metadata": {},
   "outputs": [
    {
     "data": {
      "text/html": [
       "<div>\n",
       "<style scoped>\n",
       "    .dataframe tbody tr th:only-of-type {\n",
       "        vertical-align: middle;\n",
       "    }\n",
       "\n",
       "    .dataframe tbody tr th {\n",
       "        vertical-align: top;\n",
       "    }\n",
       "\n",
       "    .dataframe thead th {\n",
       "        text-align: right;\n",
       "    }\n",
       "</style>\n",
       "<table border=\"1\" class=\"dataframe\">\n",
       "  <thead>\n",
       "    <tr style=\"text-align: right;\">\n",
       "      <th></th>\n",
       "      <th>Video title</th>\n",
       "      <th>Video publish time</th>\n",
       "      <th>Duration</th>\n",
       "      <th>Views</th>\n",
       "      <th>Watch time (hours)</th>\n",
       "      <th>Subscribers</th>\n",
       "      <th>Impressions</th>\n",
       "      <th>Impressions click-through rate (%)</th>\n",
       "      <th>Retention Rate</th>\n",
       "    </tr>\n",
       "  </thead>\n",
       "  <tbody>\n",
       "    <tr>\n",
       "      <th>19</th>\n",
       "      <td>Bullet journal cover design || journal || part 1</td>\n",
       "      <td>2020-04-11</td>\n",
       "      <td>414.0</td>\n",
       "      <td>93</td>\n",
       "      <td>1.0953</td>\n",
       "      <td>4</td>\n",
       "      <td>533</td>\n",
       "      <td>13.32</td>\n",
       "      <td>9.524348</td>\n",
       "    </tr>\n",
       "    <tr>\n",
       "      <th>17</th>\n",
       "      <td>How to make cover for journal || journal || pa...</td>\n",
       "      <td>2020-04-12</td>\n",
       "      <td>280.0</td>\n",
       "      <td>109</td>\n",
       "      <td>1.0834</td>\n",
       "      <td>0</td>\n",
       "      <td>1451</td>\n",
       "      <td>6.00</td>\n",
       "      <td>13.929429</td>\n",
       "    </tr>\n",
       "    <tr>\n",
       "      <th>5</th>\n",
       "      <td>5 tips for notes making || notes || tips</td>\n",
       "      <td>2020-04-21</td>\n",
       "      <td>219.0</td>\n",
       "      <td>235</td>\n",
       "      <td>3.4274</td>\n",
       "      <td>9</td>\n",
       "      <td>1888</td>\n",
       "      <td>9.16</td>\n",
       "      <td>56.340822</td>\n",
       "    </tr>\n",
       "    <tr>\n",
       "      <th>8</th>\n",
       "      <td>My flip journal || bullet journal || $tudy jou...</td>\n",
       "      <td>2020-05-02</td>\n",
       "      <td>366.0</td>\n",
       "      <td>160</td>\n",
       "      <td>2.9899</td>\n",
       "      <td>3</td>\n",
       "      <td>2142</td>\n",
       "      <td>4.90</td>\n",
       "      <td>29.408852</td>\n",
       "    </tr>\n",
       "    <tr>\n",
       "      <th>9</th>\n",
       "      <td>Study with us while quarantine || study with u...</td>\n",
       "      <td>2020-05-04</td>\n",
       "      <td>1125.0</td>\n",
       "      <td>159</td>\n",
       "      <td>1.6701</td>\n",
       "      <td>2</td>\n",
       "      <td>2278</td>\n",
       "      <td>4.48</td>\n",
       "      <td>5.344320</td>\n",
       "    </tr>\n",
       "  </tbody>\n",
       "</table>\n",
       "</div>"
      ],
      "text/plain": [
       "                                          Video title Video publish time  \\\n",
       "19   Bullet journal cover design || journal || part 1         2020-04-11   \n",
       "17  How to make cover for journal || journal || pa...         2020-04-12   \n",
       "5            5 tips for notes making || notes || tips         2020-04-21   \n",
       "8   My flip journal || bullet journal || $tudy jou...         2020-05-02   \n",
       "9   Study with us while quarantine || study with u...         2020-05-04   \n",
       "\n",
       "    Duration  Views  Watch time (hours)  Subscribers  Impressions  \\\n",
       "19     414.0     93              1.0953            4          533   \n",
       "17     280.0    109              1.0834            0         1451   \n",
       "5      219.0    235              3.4274            9         1888   \n",
       "8      366.0    160              2.9899            3         2142   \n",
       "9     1125.0    159              1.6701            2         2278   \n",
       "\n",
       "    Impressions click-through rate (%)  Retention Rate  \n",
       "19                               13.32        9.524348  \n",
       "17                                6.00       13.929429  \n",
       "5                                 9.16       56.340822  \n",
       "8                                 4.90       29.408852  \n",
       "9                                 4.48        5.344320  "
      ]
     },
     "execution_count": 1374,
     "metadata": {},
     "output_type": "execute_result"
    }
   ],
   "source": [
    "data.head()"
   ]
  },
  {
   "cell_type": "code",
   "execution_count": 1375,
   "id": "27c50b54",
   "metadata": {},
   "outputs": [
    {
     "data": {
      "text/html": [
       "<div>\n",
       "<style scoped>\n",
       "    .dataframe tbody tr th:only-of-type {\n",
       "        vertical-align: middle;\n",
       "    }\n",
       "\n",
       "    .dataframe tbody tr th {\n",
       "        vertical-align: top;\n",
       "    }\n",
       "\n",
       "    .dataframe thead th {\n",
       "        text-align: right;\n",
       "    }\n",
       "</style>\n",
       "<table border=\"1\" class=\"dataframe\">\n",
       "  <thead>\n",
       "    <tr style=\"text-align: right;\">\n",
       "      <th></th>\n",
       "      <th>Video title</th>\n",
       "      <th>Views</th>\n",
       "      <th>Subscribers</th>\n",
       "    </tr>\n",
       "  </thead>\n",
       "  <tbody>\n",
       "    <tr>\n",
       "      <th>19</th>\n",
       "      <td>Bullet journal cover design || journal || part 1</td>\n",
       "      <td>93</td>\n",
       "      <td>4</td>\n",
       "    </tr>\n",
       "    <tr>\n",
       "      <th>17</th>\n",
       "      <td>How to make cover for journal || journal || pa...</td>\n",
       "      <td>109</td>\n",
       "      <td>0</td>\n",
       "    </tr>\n",
       "    <tr>\n",
       "      <th>5</th>\n",
       "      <td>5 tips for notes making || notes || tips</td>\n",
       "      <td>235</td>\n",
       "      <td>9</td>\n",
       "    </tr>\n",
       "    <tr>\n",
       "      <th>8</th>\n",
       "      <td>My flip journal || bullet journal || $tudy jou...</td>\n",
       "      <td>160</td>\n",
       "      <td>3</td>\n",
       "    </tr>\n",
       "    <tr>\n",
       "      <th>9</th>\n",
       "      <td>Study with us while quarantine || study with u...</td>\n",
       "      <td>159</td>\n",
       "      <td>2</td>\n",
       "    </tr>\n",
       "  </tbody>\n",
       "</table>\n",
       "</div>"
      ],
      "text/plain": [
       "                                          Video title  Views  Subscribers\n",
       "19   Bullet journal cover design || journal || part 1     93            4\n",
       "17  How to make cover for journal || journal || pa...    109            0\n",
       "5            5 tips for notes making || notes || tips    235            9\n",
       "8   My flip journal || bullet journal || $tudy jou...    160            3\n",
       "9   Study with us while quarantine || study with u...    159            2"
      ]
     },
     "execution_count": 1375,
     "metadata": {},
     "output_type": "execute_result"
    }
   ],
   "source": [
    "data_views_subs = data[['Video title','Views','Subscribers']]\n",
    "data_views_subs.head()"
   ]
  },
  {
   "cell_type": "code",
   "execution_count": 1376,
   "id": "b78627e9",
   "metadata": {},
   "outputs": [
    {
     "name": "stderr",
     "output_type": "stream",
     "text": [
      "C:\\Users\\Aditya\\AppData\\Local\\Temp\\ipykernel_8916\\4031345234.py:1: SettingWithCopyWarning: \n",
      "A value is trying to be set on a copy of a slice from a DataFrame.\n",
      "Try using .loc[row_indexer,col_indexer] = value instead\n",
      "\n",
      "See the caveats in the documentation: https://pandas.pydata.org/pandas-docs/stable/user_guide/indexing.html#returning-a-view-versus-a-copy\n",
      "  data_views_subs['Subs Gain'] = data_views_subs['Views'] / data_views_subs['Subscribers']\n"
     ]
    }
   ],
   "source": [
    "data_views_subs['Subs Gain'] = data_views_subs['Views'] / data_views_subs['Subscribers']"
   ]
  },
  {
   "cell_type": "code",
   "execution_count": 1377,
   "id": "5afaa409",
   "metadata": {},
   "outputs": [
    {
     "data": {
      "text/html": [
       "<div>\n",
       "<style scoped>\n",
       "    .dataframe tbody tr th:only-of-type {\n",
       "        vertical-align: middle;\n",
       "    }\n",
       "\n",
       "    .dataframe tbody tr th {\n",
       "        vertical-align: top;\n",
       "    }\n",
       "\n",
       "    .dataframe thead th {\n",
       "        text-align: right;\n",
       "    }\n",
       "</style>\n",
       "<table border=\"1\" class=\"dataframe\">\n",
       "  <thead>\n",
       "    <tr style=\"text-align: right;\">\n",
       "      <th></th>\n",
       "      <th>Video title</th>\n",
       "      <th>Views</th>\n",
       "      <th>Subscribers</th>\n",
       "      <th>Subs Gain</th>\n",
       "    </tr>\n",
       "  </thead>\n",
       "  <tbody>\n",
       "    <tr>\n",
       "      <th>19</th>\n",
       "      <td>Bullet journal cover design || journal || part 1</td>\n",
       "      <td>93</td>\n",
       "      <td>4</td>\n",
       "      <td>23.250000</td>\n",
       "    </tr>\n",
       "    <tr>\n",
       "      <th>17</th>\n",
       "      <td>How to make cover for journal || journal || pa...</td>\n",
       "      <td>109</td>\n",
       "      <td>0</td>\n",
       "      <td>inf</td>\n",
       "    </tr>\n",
       "    <tr>\n",
       "      <th>5</th>\n",
       "      <td>5 tips for notes making || notes || tips</td>\n",
       "      <td>235</td>\n",
       "      <td>9</td>\n",
       "      <td>26.111111</td>\n",
       "    </tr>\n",
       "    <tr>\n",
       "      <th>8</th>\n",
       "      <td>My flip journal || bullet journal || $tudy jou...</td>\n",
       "      <td>160</td>\n",
       "      <td>3</td>\n",
       "      <td>53.333333</td>\n",
       "    </tr>\n",
       "    <tr>\n",
       "      <th>9</th>\n",
       "      <td>Study with us while quarantine || study with u...</td>\n",
       "      <td>159</td>\n",
       "      <td>2</td>\n",
       "      <td>79.500000</td>\n",
       "    </tr>\n",
       "  </tbody>\n",
       "</table>\n",
       "</div>"
      ],
      "text/plain": [
       "                                          Video title  Views  Subscribers  \\\n",
       "19   Bullet journal cover design || journal || part 1     93            4   \n",
       "17  How to make cover for journal || journal || pa...    109            0   \n",
       "5            5 tips for notes making || notes || tips    235            9   \n",
       "8   My flip journal || bullet journal || $tudy jou...    160            3   \n",
       "9   Study with us while quarantine || study with u...    159            2   \n",
       "\n",
       "    Subs Gain  \n",
       "19  23.250000  \n",
       "17        inf  \n",
       "5   26.111111  \n",
       "8   53.333333  \n",
       "9   79.500000  "
      ]
     },
     "execution_count": 1377,
     "metadata": {},
     "output_type": "execute_result"
    }
   ],
   "source": [
    "data_views_subs.head()"
   ]
  },
  {
   "cell_type": "code",
   "execution_count": 1378,
   "id": "16e625e3",
   "metadata": {},
   "outputs": [
    {
     "name": "stderr",
     "output_type": "stream",
     "text": [
      "C:\\Users\\Aditya\\AppData\\Local\\Temp\\ipykernel_8916\\2913999451.py:7: SettingWithCopyWarning: \n",
      "A value is trying to be set on a copy of a slice from a DataFrame.\n",
      "Try using .loc[row_indexer,col_indexer] = value instead\n",
      "\n",
      "See the caveats in the documentation: https://pandas.pydata.org/pandas-docs/stable/user_guide/indexing.html#returning-a-view-versus-a-copy\n",
      "  data_views_subs['Video title'] = data_views_subs['Video title'].apply(clean_title)\n"
     ]
    }
   ],
   "source": [
    "def clean_title(title):\n",
    "    # Remove anything after \"||\" or \" | \"\n",
    "    title = title.split(\" \")[0:4]\n",
    "    title = \" \".join(title)\n",
    "    return title + \"...\"\n",
    "\n",
    "data_views_subs['Video title'] = data_views_subs['Video title'].apply(clean_title)"
   ]
  },
  {
   "cell_type": "code",
   "execution_count": 1379,
   "id": "47839a86",
   "metadata": {},
   "outputs": [
    {
     "data": {
      "text/plain": [
       "<Axes: xlabel='Subs Gain', ylabel='Video title'>"
      ]
     },
     "execution_count": 1379,
     "metadata": {},
     "output_type": "execute_result"
    },
    {
     "name": "stderr",
     "output_type": "stream",
     "text": [
      "d:\\Anaconda\\Lib\\site-packages\\IPython\\core\\events.py:82: UserWarning: Glyph 129398 (\\N{FREEZING FACE}) missing from font(s) DejaVu Sans.\n",
      "  func(*args, **kwargs)\n",
      "d:\\Anaconda\\Lib\\site-packages\\IPython\\core\\events.py:82: UserWarning: Glyph 10024 (\\N{SPARKLES}) missing from font(s) DejaVu Sans.\n",
      "  func(*args, **kwargs)\n",
      "d:\\Anaconda\\Lib\\site-packages\\IPython\\core\\pylabtools.py:170: UserWarning: Glyph 129398 (\\N{FREEZING FACE}) missing from font(s) DejaVu Sans.\n",
      "  fig.canvas.print_figure(bytes_io, **kw)\n",
      "d:\\Anaconda\\Lib\\site-packages\\IPython\\core\\pylabtools.py:170: UserWarning: Glyph 10024 (\\N{SPARKLES}) missing from font(s) DejaVu Sans.\n",
      "  fig.canvas.print_figure(bytes_io, **kw)\n"
     ]
    },
    {
     "data": {
      "image/png": "[encoded data removed]",
      "text/plain": [
       "<Figure size 640x480 with 1 Axes>"
      ]
     },
     "metadata": {},
     "output_type": "display_data"
    }
   ],
   "source": [
    "sns.barplot(y=data_views_subs['Video title'], x=data_views_subs['Subs Gain'])"
   ]
  },
  {
   "cell_type": "markdown",
   "id": "38d24744",
   "metadata": {},
   "source": [
    "#### 2. Which video has the highest watch time per view?"
   ]
  },
  {
   "cell_type": "code",
   "execution_count": 1380,
   "id": "cc45c1a8",
   "metadata": {},
   "outputs": [
    {
     "data": {
      "text/html": [
       "<div>\n",
       "<style scoped>\n",
       "    .dataframe tbody tr th:only-of-type {\n",
       "        vertical-align: middle;\n",
       "    }\n",
       "\n",
       "    .dataframe tbody tr th {\n",
       "        vertical-align: top;\n",
       "    }\n",
       "\n",
       "    .dataframe thead th {\n",
       "        text-align: right;\n",
       "    }\n",
       "</style>\n",
       "<table border=\"1\" class=\"dataframe\">\n",
       "  <thead>\n",
       "    <tr style=\"text-align: right;\">\n",
       "      <th></th>\n",
       "      <th>Video title</th>\n",
       "      <th>Video publish time</th>\n",
       "      <th>Duration</th>\n",
       "      <th>Views</th>\n",
       "      <th>Watch time (hours)</th>\n",
       "      <th>Subscribers</th>\n",
       "      <th>Impressions</th>\n",
       "      <th>Impressions click-through rate (%)</th>\n",
       "      <th>Retention Rate</th>\n",
       "    </tr>\n",
       "  </thead>\n",
       "  <tbody>\n",
       "    <tr>\n",
       "      <th>19</th>\n",
       "      <td>Bullet journal cover design || journal || part 1</td>\n",
       "      <td>2020-04-11</td>\n",
       "      <td>414.0</td>\n",
       "      <td>93</td>\n",
       "      <td>1.0953</td>\n",
       "      <td>4</td>\n",
       "      <td>533</td>\n",
       "      <td>13.32</td>\n",
       "      <td>9.524348</td>\n",
       "    </tr>\n",
       "    <tr>\n",
       "      <th>17</th>\n",
       "      <td>How to make cover for journal || journal || pa...</td>\n",
       "      <td>2020-04-12</td>\n",
       "      <td>280.0</td>\n",
       "      <td>109</td>\n",
       "      <td>1.0834</td>\n",
       "      <td>0</td>\n",
       "      <td>1451</td>\n",
       "      <td>6.00</td>\n",
       "      <td>13.929429</td>\n",
       "    </tr>\n",
       "    <tr>\n",
       "      <th>5</th>\n",
       "      <td>5 tips for notes making || notes || tips</td>\n",
       "      <td>2020-04-21</td>\n",
       "      <td>219.0</td>\n",
       "      <td>235</td>\n",
       "      <td>3.4274</td>\n",
       "      <td>9</td>\n",
       "      <td>1888</td>\n",
       "      <td>9.16</td>\n",
       "      <td>56.340822</td>\n",
       "    </tr>\n",
       "    <tr>\n",
       "      <th>8</th>\n",
       "      <td>My flip journal || bullet journal || $tudy jou...</td>\n",
       "      <td>2020-05-02</td>\n",
       "      <td>366.0</td>\n",
       "      <td>160</td>\n",
       "      <td>2.9899</td>\n",
       "      <td>3</td>\n",
       "      <td>2142</td>\n",
       "      <td>4.90</td>\n",
       "      <td>29.408852</td>\n",
       "    </tr>\n",
       "    <tr>\n",
       "      <th>9</th>\n",
       "      <td>Study with us while quarantine || study with u...</td>\n",
       "      <td>2020-05-04</td>\n",
       "      <td>1125.0</td>\n",
       "      <td>159</td>\n",
       "      <td>1.6701</td>\n",
       "      <td>2</td>\n",
       "      <td>2278</td>\n",
       "      <td>4.48</td>\n",
       "      <td>5.344320</td>\n",
       "    </tr>\n",
       "  </tbody>\n",
       "</table>\n",
       "</div>"
      ],
      "text/plain": [
       "                                          Video title Video publish time  \\\n",
       "19   Bullet journal cover design || journal || part 1         2020-04-11   \n",
       "17  How to make cover for journal || journal || pa...         2020-04-12   \n",
       "5            5 tips for notes making || notes || tips         2020-04-21   \n",
       "8   My flip journal || bullet journal || $tudy jou...         2020-05-02   \n",
       "9   Study with us while quarantine || study with u...         2020-05-04   \n",
       "\n",
       "    Duration  Views  Watch time (hours)  Subscribers  Impressions  \\\n",
       "19     414.0     93              1.0953            4          533   \n",
       "17     280.0    109              1.0834            0         1451   \n",
       "5      219.0    235              3.4274            9         1888   \n",
       "8      366.0    160              2.9899            3         2142   \n",
       "9     1125.0    159              1.6701            2         2278   \n",
       "\n",
       "    Impressions click-through rate (%)  Retention Rate  \n",
       "19                               13.32        9.524348  \n",
       "17                                6.00       13.929429  \n",
       "5                                 9.16       56.340822  \n",
       "8                                 4.90       29.408852  \n",
       "9                                 4.48        5.344320  "
      ]
     },
     "execution_count": 1380,
     "metadata": {},
     "output_type": "execute_result"
    }
   ],
   "source": [
    "data.head()\n"
   ]
  },
  {
   "cell_type": "code",
   "execution_count": 1381,
   "id": "e9216997",
   "metadata": {},
   "outputs": [],
   "source": [
    "data_watch_time_views = data[['Video title', 'Watch time (hours)', 'Views']]"
   ]
  },
  {
   "cell_type": "code",
   "execution_count": 1382,
   "id": "2671e5df",
   "metadata": {},
   "outputs": [
    {
     "data": {
      "text/html": [
       "<div>\n",
       "<style scoped>\n",
       "    .dataframe tbody tr th:only-of-type {\n",
       "        vertical-align: middle;\n",
       "    }\n",
       "\n",
       "    .dataframe tbody tr th {\n",
       "        vertical-align: top;\n",
       "    }\n",
       "\n",
       "    .dataframe thead th {\n",
       "        text-align: right;\n",
       "    }\n",
       "</style>\n",
       "<table border=\"1\" class=\"dataframe\">\n",
       "  <thead>\n",
       "    <tr style=\"text-align: right;\">\n",
       "      <th></th>\n",
       "      <th>Video title</th>\n",
       "      <th>Watch time (hours)</th>\n",
       "      <th>Views</th>\n",
       "    </tr>\n",
       "  </thead>\n",
       "  <tbody>\n",
       "    <tr>\n",
       "      <th>19</th>\n",
       "      <td>Bullet journal cover design || journal || part 1</td>\n",
       "      <td>1.0953</td>\n",
       "      <td>93</td>\n",
       "    </tr>\n",
       "    <tr>\n",
       "      <th>17</th>\n",
       "      <td>How to make cover for journal || journal || pa...</td>\n",
       "      <td>1.0834</td>\n",
       "      <td>109</td>\n",
       "    </tr>\n",
       "    <tr>\n",
       "      <th>5</th>\n",
       "      <td>5 tips for notes making || notes || tips</td>\n",
       "      <td>3.4274</td>\n",
       "      <td>235</td>\n",
       "    </tr>\n",
       "    <tr>\n",
       "      <th>8</th>\n",
       "      <td>My flip journal || bullet journal || $tudy jou...</td>\n",
       "      <td>2.9899</td>\n",
       "      <td>160</td>\n",
       "    </tr>\n",
       "    <tr>\n",
       "      <th>9</th>\n",
       "      <td>Study with us while quarantine || study with u...</td>\n",
       "      <td>1.6701</td>\n",
       "      <td>159</td>\n",
       "    </tr>\n",
       "  </tbody>\n",
       "</table>\n",
       "</div>"
      ],
      "text/plain": [
       "                                          Video title  Watch time (hours)  \\\n",
       "19   Bullet journal cover design || journal || part 1              1.0953   \n",
       "17  How to make cover for journal || journal || pa...              1.0834   \n",
       "5            5 tips for notes making || notes || tips              3.4274   \n",
       "8   My flip journal || bullet journal || $tudy jou...              2.9899   \n",
       "9   Study with us while quarantine || study with u...              1.6701   \n",
       "\n",
       "    Views  \n",
       "19     93  \n",
       "17    109  \n",
       "5     235  \n",
       "8     160  \n",
       "9     159  "
      ]
     },
     "execution_count": 1382,
     "metadata": {},
     "output_type": "execute_result"
    }
   ],
   "source": [
    "data_watch_time_views.head()"
   ]
  },
  {
   "cell_type": "code",
   "execution_count": 1383,
   "id": "7d21e0c8",
   "metadata": {},
   "outputs": [
    {
     "name": "stderr",
     "output_type": "stream",
     "text": [
      "C:\\Users\\Aditya\\AppData\\Local\\Temp\\ipykernel_8916\\474525859.py:1: SettingWithCopyWarning: \n",
      "A value is trying to be set on a copy of a slice from a DataFrame.\n",
      "Try using .loc[row_indexer,col_indexer] = value instead\n",
      "\n",
      "See the caveats in the documentation: https://pandas.pydata.org/pandas-docs/stable/user_guide/indexing.html#returning-a-view-versus-a-copy\n",
      "  data_watch_time_views['Watch time (hours)'] = data_watch_time_views['Watch time (hours)'] * 3600\n"
     ]
    }
   ],
   "source": [
    "data_watch_time_views['Watch time (hours)'] = data_watch_time_views['Watch time (hours)'] * 3600"
   ]
  },
  {
   "cell_type": "code",
   "execution_count": 1384,
   "id": "0b26eca8",
   "metadata": {},
   "outputs": [
    {
     "data": {
      "text/html": [
       "<div>\n",
       "<style scoped>\n",
       "    .dataframe tbody tr th:only-of-type {\n",
       "        vertical-align: middle;\n",
       "    }\n",
       "\n",
       "    .dataframe tbody tr th {\n",
       "        vertical-align: top;\n",
       "    }\n",
       "\n",
       "    .dataframe thead th {\n",
       "        text-align: right;\n",
       "    }\n",
       "</style>\n",
       "<table border=\"1\" class=\"dataframe\">\n",
       "  <thead>\n",
       "    <tr style=\"text-align: right;\">\n",
       "      <th></th>\n",
       "      <th>Video title</th>\n",
       "      <th>Watch time (hours)</th>\n",
       "      <th>Views</th>\n",
       "    </tr>\n",
       "  </thead>\n",
       "  <tbody>\n",
       "    <tr>\n",
       "      <th>19</th>\n",
       "      <td>Bullet journal cover design || journal || part 1</td>\n",
       "      <td>3943.08</td>\n",
       "      <td>93</td>\n",
       "    </tr>\n",
       "    <tr>\n",
       "      <th>17</th>\n",
       "      <td>How to make cover for journal || journal || pa...</td>\n",
       "      <td>3900.24</td>\n",
       "      <td>109</td>\n",
       "    </tr>\n",
       "    <tr>\n",
       "      <th>5</th>\n",
       "      <td>5 tips for notes making || notes || tips</td>\n",
       "      <td>12338.64</td>\n",
       "      <td>235</td>\n",
       "    </tr>\n",
       "    <tr>\n",
       "      <th>8</th>\n",
       "      <td>My flip journal || bullet journal || $tudy jou...</td>\n",
       "      <td>10763.64</td>\n",
       "      <td>160</td>\n",
       "    </tr>\n",
       "    <tr>\n",
       "      <th>9</th>\n",
       "      <td>Study with us while quarantine || study with u...</td>\n",
       "      <td>6012.36</td>\n",
       "      <td>159</td>\n",
       "    </tr>\n",
       "  </tbody>\n",
       "</table>\n",
       "</div>"
      ],
      "text/plain": [
       "                                          Video title  Watch time (hours)  \\\n",
       "19   Bullet journal cover design || journal || part 1             3943.08   \n",
       "17  How to make cover for journal || journal || pa...             3900.24   \n",
       "5            5 tips for notes making || notes || tips            12338.64   \n",
       "8   My flip journal || bullet journal || $tudy jou...            10763.64   \n",
       "9   Study with us while quarantine || study with u...             6012.36   \n",
       "\n",
       "    Views  \n",
       "19     93  \n",
       "17    109  \n",
       "5     235  \n",
       "8     160  \n",
       "9     159  "
      ]
     },
     "execution_count": 1384,
     "metadata": {},
     "output_type": "execute_result"
    }
   ],
   "source": [
    "data_watch_time_views.head()"
   ]
  },
  {
   "cell_type": "code",
   "execution_count": 1385,
   "id": "5c407d76",
   "metadata": {},
   "outputs": [
    {
     "name": "stderr",
     "output_type": "stream",
     "text": [
      "C:\\Users\\Aditya\\AppData\\Local\\Temp\\ipykernel_8916\\2955334064.py:1: SettingWithCopyWarning: \n",
      "A value is trying to be set on a copy of a slice from a DataFrame.\n",
      "Try using .loc[row_indexer,col_indexer] = value instead\n",
      "\n",
      "See the caveats in the documentation: https://pandas.pydata.org/pandas-docs/stable/user_guide/indexing.html#returning-a-view-versus-a-copy\n",
      "  data_watch_time_views['Avg. Watch time per view (in minutes)'] = data_watch_time_views['Watch time (hours)'] / data_watch_time_views['Views']\n"
     ]
    }
   ],
   "source": [
    "data_watch_time_views['Avg. Watch time per view (in minutes)'] = data_watch_time_views['Watch time (hours)'] / data_watch_time_views['Views']"
   ]
  },
  {
   "cell_type": "code",
   "execution_count": 1386,
   "id": "3125bdba",
   "metadata": {},
   "outputs": [
    {
     "name": "stderr",
     "output_type": "stream",
     "text": [
      "C:\\Users\\Aditya\\AppData\\Local\\Temp\\ipykernel_8916\\3789975402.py:1: SettingWithCopyWarning: \n",
      "A value is trying to be set on a copy of a slice from a DataFrame\n",
      "\n",
      "See the caveats in the documentation: https://pandas.pydata.org/pandas-docs/stable/user_guide/indexing.html#returning-a-view-versus-a-copy\n",
      "  data_watch_time_views.drop(columns=['Watch time (hours)', 'Views'], axis=1, inplace=True)\n"
     ]
    }
   ],
   "source": [
    "data_watch_time_views.drop(columns=['Watch time (hours)', 'Views'], axis=1, inplace=True)"
   ]
  },
  {
   "cell_type": "code",
   "execution_count": 1387,
   "id": "45718361",
   "metadata": {},
   "outputs": [
    {
     "data": {
      "text/html": [
       "<div>\n",
       "<style scoped>\n",
       "    .dataframe tbody tr th:only-of-type {\n",
       "        vertical-align: middle;\n",
       "    }\n",
       "\n",
       "    .dataframe tbody tr th {\n",
       "        vertical-align: top;\n",
       "    }\n",
       "\n",
       "    .dataframe thead th {\n",
       "        text-align: right;\n",
       "    }\n",
       "</style>\n",
       "<table border=\"1\" class=\"dataframe\">\n",
       "  <thead>\n",
       "    <tr style=\"text-align: right;\">\n",
       "      <th></th>\n",
       "      <th>Video title</th>\n",
       "      <th>Avg. Watch time per view (in minutes)</th>\n",
       "    </tr>\n",
       "  </thead>\n",
       "  <tbody>\n",
       "    <tr>\n",
       "      <th>19</th>\n",
       "      <td>Bullet journal cover design || journal || part 1</td>\n",
       "      <td>42.398710</td>\n",
       "    </tr>\n",
       "    <tr>\n",
       "      <th>17</th>\n",
       "      <td>How to make cover for journal || journal || pa...</td>\n",
       "      <td>35.782018</td>\n",
       "    </tr>\n",
       "    <tr>\n",
       "      <th>5</th>\n",
       "      <td>5 tips for notes making || notes || tips</td>\n",
       "      <td>52.504851</td>\n",
       "    </tr>\n",
       "    <tr>\n",
       "      <th>8</th>\n",
       "      <td>My flip journal || bullet journal || $tudy jou...</td>\n",
       "      <td>67.272750</td>\n",
       "    </tr>\n",
       "    <tr>\n",
       "      <th>9</th>\n",
       "      <td>Study with us while quarantine || study with u...</td>\n",
       "      <td>37.813585</td>\n",
       "    </tr>\n",
       "  </tbody>\n",
       "</table>\n",
       "</div>"
      ],
      "text/plain": [
       "                                          Video title  \\\n",
       "19   Bullet journal cover design || journal || part 1   \n",
       "17  How to make cover for journal || journal || pa...   \n",
       "5            5 tips for notes making || notes || tips   \n",
       "8   My flip journal || bullet journal || $tudy jou...   \n",
       "9   Study with us while quarantine || study with u...   \n",
       "\n",
       "    Avg. Watch time per view (in minutes)  \n",
       "19                              42.398710  \n",
       "17                              35.782018  \n",
       "5                               52.504851  \n",
       "8                               67.272750  \n",
       "9                               37.813585  "
      ]
     },
     "execution_count": 1387,
     "metadata": {},
     "output_type": "execute_result"
    }
   ],
   "source": [
    "data_watch_time_views.head()"
   ]
  },
  {
   "cell_type": "code",
   "execution_count": 1388,
   "id": "cb9370b2",
   "metadata": {},
   "outputs": [
    {
     "name": "stderr",
     "output_type": "stream",
     "text": [
      "C:\\Users\\Aditya\\AppData\\Local\\Temp\\ipykernel_8916\\90500174.py:7: SettingWithCopyWarning: \n",
      "A value is trying to be set on a copy of a slice from a DataFrame.\n",
      "Try using .loc[row_indexer,col_indexer] = value instead\n",
      "\n",
      "See the caveats in the documentation: https://pandas.pydata.org/pandas-docs/stable/user_guide/indexing.html#returning-a-view-versus-a-copy\n",
      "  data_watch_time_views['Video title'] = data_watch_time_views['Video title'].apply(clean_title)\n"
     ]
    }
   ],
   "source": [
    "def clean_title(title):\n",
    "    # Remove anything after \"||\" or \" | \"\n",
    "    title = title.split(\" \")[0:4]\n",
    "    title = \" \".join(title)\n",
    "    return title + \"...\"\n",
    "\n",
    "data_watch_time_views['Video title'] = data_watch_time_views['Video title'].apply(clean_title)"
   ]
  },
  {
   "cell_type": "code",
   "execution_count": 1389,
   "id": "9401f772",
   "metadata": {},
   "outputs": [
    {
     "data": {
      "text/html": [
       "<div>\n",
       "<style scoped>\n",
       "    .dataframe tbody tr th:only-of-type {\n",
       "        vertical-align: middle;\n",
       "    }\n",
       "\n",
       "    .dataframe tbody tr th {\n",
       "        vertical-align: top;\n",
       "    }\n",
       "\n",
       "    .dataframe thead th {\n",
       "        text-align: right;\n",
       "    }\n",
       "</style>\n",
       "<table border=\"1\" class=\"dataframe\">\n",
       "  <thead>\n",
       "    <tr style=\"text-align: right;\">\n",
       "      <th></th>\n",
       "      <th>Video title</th>\n",
       "      <th>Avg. Watch time per view (in minutes)</th>\n",
       "    </tr>\n",
       "  </thead>\n",
       "  <tbody>\n",
       "    <tr>\n",
       "      <th>19</th>\n",
       "      <td>Bullet journal cover design...</td>\n",
       "      <td>42.398710</td>\n",
       "    </tr>\n",
       "    <tr>\n",
       "      <th>17</th>\n",
       "      <td>How to make cover...</td>\n",
       "      <td>35.782018</td>\n",
       "    </tr>\n",
       "    <tr>\n",
       "      <th>5</th>\n",
       "      <td>5 tips for notes...</td>\n",
       "      <td>52.504851</td>\n",
       "    </tr>\n",
       "    <tr>\n",
       "      <th>8</th>\n",
       "      <td>My flip journal ||...</td>\n",
       "      <td>67.272750</td>\n",
       "    </tr>\n",
       "    <tr>\n",
       "      <th>9</th>\n",
       "      <td>Study with us while...</td>\n",
       "      <td>37.813585</td>\n",
       "    </tr>\n",
       "  </tbody>\n",
       "</table>\n",
       "</div>"
      ],
      "text/plain": [
       "                       Video title  Avg. Watch time per view (in minutes)\n",
       "19  Bullet journal cover design...                              42.398710\n",
       "17            How to make cover...                              35.782018\n",
       "5              5 tips for notes...                              52.504851\n",
       "8            My flip journal ||...                              67.272750\n",
       "9           Study with us while...                              37.813585"
      ]
     },
     "execution_count": 1389,
     "metadata": {},
     "output_type": "execute_result"
    }
   ],
   "source": [
    "data_watch_time_views.head()"
   ]
  },
  {
   "cell_type": "code",
   "execution_count": 1390,
   "id": "fc2ca001",
   "metadata": {},
   "outputs": [
    {
     "data": {
      "text/plain": [
       "<Axes: xlabel='Avg. Watch time per view (in minutes)', ylabel='Video title'>"
      ]
     },
     "execution_count": 1390,
     "metadata": {},
     "output_type": "execute_result"
    },
    {
     "name": "stderr",
     "output_type": "stream",
     "text": [
      "d:\\Anaconda\\Lib\\site-packages\\IPython\\core\\events.py:82: UserWarning: Glyph 129398 (\\N{FREEZING FACE}) missing from font(s) DejaVu Sans.\n",
      "  func(*args, **kwargs)\n",
      "d:\\Anaconda\\Lib\\site-packages\\IPython\\core\\events.py:82: UserWarning: Glyph 10024 (\\N{SPARKLES}) missing from font(s) DejaVu Sans.\n",
      "  func(*args, **kwargs)\n",
      "d:\\Anaconda\\Lib\\site-packages\\IPython\\core\\pylabtools.py:170: UserWarning: Glyph 129398 (\\N{FREEZING FACE}) missing from font(s) DejaVu Sans.\n",
      "  fig.canvas.print_figure(bytes_io, **kw)\n",
      "d:\\Anaconda\\Lib\\site-packages\\IPython\\core\\pylabtools.py:170: UserWarning: Glyph 10024 (\\N{SPARKLES}) missing from font(s) DejaVu Sans.\n",
      "  fig.canvas.print_figure(bytes_io, **kw)\n"
     ]
    },
    {
     "data": {
      "image/png": "[encoded data removed]",
      "text/plain": [
       "<Figure size 640x480 with 1 Axes>"
      ]
     },
     "metadata": {},
     "output_type": "display_data"
    }
   ],
   "source": [
    "sns.barplot(x=data_watch_time_views['Avg. Watch time per view (in minutes)'], y=data_watch_time_views['Video title'])"
   ]
  },
  {
   "cell_type": "markdown",
   "id": "d1cc7959",
   "metadata": {},
   "source": [
    "#### 3. Is there a pattern between publish day/time and performance?"
   ]
  },
  {
   "cell_type": "code",
   "execution_count": 1391,
   "id": "e5801de7",
   "metadata": {},
   "outputs": [
    {
     "data": {
      "text/html": [
       "<div>\n",
       "<style scoped>\n",
       "    .dataframe tbody tr th:only-of-type {\n",
       "        vertical-align: middle;\n",
       "    }\n",
       "\n",
       "    .dataframe tbody tr th {\n",
       "        vertical-align: top;\n",
       "    }\n",
       "\n",
       "    .dataframe thead th {\n",
       "        text-align: right;\n",
       "    }\n",
       "</style>\n",
       "<table border=\"1\" class=\"dataframe\">\n",
       "  <thead>\n",
       "    <tr style=\"text-align: right;\">\n",
       "      <th></th>\n",
       "      <th>Video title</th>\n",
       "      <th>Video publish time</th>\n",
       "      <th>Duration</th>\n",
       "      <th>Views</th>\n",
       "      <th>Watch time (hours)</th>\n",
       "      <th>Subscribers</th>\n",
       "      <th>Impressions</th>\n",
       "      <th>Impressions click-through rate (%)</th>\n",
       "      <th>Retention Rate</th>\n",
       "    </tr>\n",
       "  </thead>\n",
       "  <tbody>\n",
       "    <tr>\n",
       "      <th>19</th>\n",
       "      <td>Bullet journal cover design || journal || part 1</td>\n",
       "      <td>2020-04-11</td>\n",
       "      <td>414.0</td>\n",
       "      <td>93</td>\n",
       "      <td>1.0953</td>\n",
       "      <td>4</td>\n",
       "      <td>533</td>\n",
       "      <td>13.32</td>\n",
       "      <td>9.524348</td>\n",
       "    </tr>\n",
       "    <tr>\n",
       "      <th>17</th>\n",
       "      <td>How to make cover for journal || journal || pa...</td>\n",
       "      <td>2020-04-12</td>\n",
       "      <td>280.0</td>\n",
       "      <td>109</td>\n",
       "      <td>1.0834</td>\n",
       "      <td>0</td>\n",
       "      <td>1451</td>\n",
       "      <td>6.00</td>\n",
       "      <td>13.929429</td>\n",
       "    </tr>\n",
       "    <tr>\n",
       "      <th>5</th>\n",
       "      <td>5 tips for notes making || notes || tips</td>\n",
       "      <td>2020-04-21</td>\n",
       "      <td>219.0</td>\n",
       "      <td>235</td>\n",
       "      <td>3.4274</td>\n",
       "      <td>9</td>\n",
       "      <td>1888</td>\n",
       "      <td>9.16</td>\n",
       "      <td>56.340822</td>\n",
       "    </tr>\n",
       "    <tr>\n",
       "      <th>8</th>\n",
       "      <td>My flip journal || bullet journal || $tudy jou...</td>\n",
       "      <td>2020-05-02</td>\n",
       "      <td>366.0</td>\n",
       "      <td>160</td>\n",
       "      <td>2.9899</td>\n",
       "      <td>3</td>\n",
       "      <td>2142</td>\n",
       "      <td>4.90</td>\n",
       "      <td>29.408852</td>\n",
       "    </tr>\n",
       "    <tr>\n",
       "      <th>9</th>\n",
       "      <td>Study with us while quarantine || study with u...</td>\n",
       "      <td>2020-05-04</td>\n",
       "      <td>1125.0</td>\n",
       "      <td>159</td>\n",
       "      <td>1.6701</td>\n",
       "      <td>2</td>\n",
       "      <td>2278</td>\n",
       "      <td>4.48</td>\n",
       "      <td>5.344320</td>\n",
       "    </tr>\n",
       "  </tbody>\n",
       "</table>\n",
       "</div>"
      ],
      "text/plain": [
       "                                          Video title Video publish time  \\\n",
       "19   Bullet journal cover design || journal || part 1         2020-04-11   \n",
       "17  How to make cover for journal || journal || pa...         2020-04-12   \n",
       "5            5 tips for notes making || notes || tips         2020-04-21   \n",
       "8   My flip journal || bullet journal || $tudy jou...         2020-05-02   \n",
       "9   Study with us while quarantine || study with u...         2020-05-04   \n",
       "\n",
       "    Duration  Views  Watch time (hours)  Subscribers  Impressions  \\\n",
       "19     414.0     93              1.0953            4          533   \n",
       "17     280.0    109              1.0834            0         1451   \n",
       "5      219.0    235              3.4274            9         1888   \n",
       "8      366.0    160              2.9899            3         2142   \n",
       "9     1125.0    159              1.6701            2         2278   \n",
       "\n",
       "    Impressions click-through rate (%)  Retention Rate  \n",
       "19                               13.32        9.524348  \n",
       "17                                6.00       13.929429  \n",
       "5                                 9.16       56.340822  \n",
       "8                                 4.90       29.408852  \n",
       "9                                 4.48        5.344320  "
      ]
     },
     "execution_count": 1391,
     "metadata": {},
     "output_type": "execute_result"
    }
   ],
   "source": [
    "data.head()"
   ]
  },
  {
   "cell_type": "code",
   "execution_count": 1392,
   "id": "c9d51e5d",
   "metadata": {},
   "outputs": [],
   "source": [
    "data_day_views = data[['Views', 'Video publish time']]"
   ]
  },
  {
   "cell_type": "code",
   "execution_count": 1393,
   "id": "7b0b286f",
   "metadata": {},
   "outputs": [
    {
     "name": "stderr",
     "output_type": "stream",
     "text": [
      "C:\\Users\\Aditya\\AppData\\Local\\Temp\\ipykernel_8916\\473051166.py:1: SettingWithCopyWarning: \n",
      "A value is trying to be set on a copy of a slice from a DataFrame.\n",
      "Try using .loc[row_indexer,col_indexer] = value instead\n",
      "\n",
      "See the caveats in the documentation: https://pandas.pydata.org/pandas-docs/stable/user_guide/indexing.html#returning-a-view-versus-a-copy\n",
      "  data_day_views['day'] = data_day_views['Video publish time'].dt.day_name()\n"
     ]
    }
   ],
   "source": [
    "data_day_views['day'] = data_day_views['Video publish time'].dt.day_name()"
   ]
  },
  {
   "cell_type": "code",
   "execution_count": 1394,
   "id": "51962429",
   "metadata": {},
   "outputs": [
    {
     "data": {
      "text/html": [
       "<div>\n",
       "<style scoped>\n",
       "    .dataframe tbody tr th:only-of-type {\n",
       "        vertical-align: middle;\n",
       "    }\n",
       "\n",
       "    .dataframe tbody tr th {\n",
       "        vertical-align: top;\n",
       "    }\n",
       "\n",
       "    .dataframe thead th {\n",
       "        text-align: right;\n",
       "    }\n",
       "</style>\n",
       "<table border=\"1\" class=\"dataframe\">\n",
       "  <thead>\n",
       "    <tr style=\"text-align: right;\">\n",
       "      <th></th>\n",
       "      <th>Views</th>\n",
       "      <th>Video publish time</th>\n",
       "      <th>day</th>\n",
       "    </tr>\n",
       "  </thead>\n",
       "  <tbody>\n",
       "    <tr>\n",
       "      <th>19</th>\n",
       "      <td>93</td>\n",
       "      <td>2020-04-11</td>\n",
       "      <td>Saturday</td>\n",
       "    </tr>\n",
       "    <tr>\n",
       "      <th>17</th>\n",
       "      <td>109</td>\n",
       "      <td>2020-04-12</td>\n",
       "      <td>Sunday</td>\n",
       "    </tr>\n",
       "    <tr>\n",
       "      <th>5</th>\n",
       "      <td>235</td>\n",
       "      <td>2020-04-21</td>\n",
       "      <td>Tuesday</td>\n",
       "    </tr>\n",
       "    <tr>\n",
       "      <th>8</th>\n",
       "      <td>160</td>\n",
       "      <td>2020-05-02</td>\n",
       "      <td>Saturday</td>\n",
       "    </tr>\n",
       "    <tr>\n",
       "      <th>9</th>\n",
       "      <td>159</td>\n",
       "      <td>2020-05-04</td>\n",
       "      <td>Monday</td>\n",
       "    </tr>\n",
       "  </tbody>\n",
       "</table>\n",
       "</div>"
      ],
      "text/plain": [
       "    Views Video publish time       day\n",
       "19     93         2020-04-11  Saturday\n",
       "17    109         2020-04-12    Sunday\n",
       "5     235         2020-04-21   Tuesday\n",
       "8     160         2020-05-02  Saturday\n",
       "9     159         2020-05-04    Monday"
      ]
     },
     "execution_count": 1394,
     "metadata": {},
     "output_type": "execute_result"
    }
   ],
   "source": [
    "data_day_views.head()"
   ]
  },
  {
   "cell_type": "code",
   "execution_count": 1395,
   "id": "69e67fbe",
   "metadata": {},
   "outputs": [],
   "source": [
    "day_views = pd.DataFrame(data_day_views.groupby(['day'])['Views'].sum())\n",
    "day_views = day_views.reset_index()"
   ]
  },
  {
   "cell_type": "code",
   "execution_count": 1396,
   "id": "4c1b7ca8",
   "metadata": {},
   "outputs": [],
   "source": [
    "day_views.sort_values('Views',ascending=False,inplace=True)"
   ]
  },
  {
   "cell_type": "code",
   "execution_count": 1397,
   "id": "d34c4b68",
   "metadata": {},
   "outputs": [
    {
     "data": {
      "text/plain": [
       "<Axes: xlabel='day', ylabel='Views'>"
      ]
     },
     "execution_count": 1397,
     "metadata": {},
     "output_type": "execute_result"
    },
    {
     "data": {
      "image/png": "[encoded data removed]",
      "text/plain": [
       "<Figure size 640x480 with 1 Axes>"
      ]
     },
     "metadata": {},
     "output_type": "display_data"
    }
   ],
   "source": [
    "sns.barplot(x=day_views['day'], y=day_views['Views'])"
   ]
  },
  {
   "cell_type": "code",
   "execution_count": null,
   "id": "503fd192",
   "metadata": {},
   "outputs": [],
   "source": []
  }
 ],
 "metadata": {
  "kernelspec": {
   "display_name": "base",
   "language": "python",
   "name": "python3"
  },
  "language_info": {
   "codemirror_mode": {
    "name": "ipython",
    "version": 3
   },
   "file_extension": ".py",
   "mimetype": "text/x-python",
   "name": "python",
   "nbconvert_exporter": "python",
   "pygments_lexer": "ipython3",
   "version": "3.13.5"
  }
 },
 "nbformat": 4,
 "nbformat_minor": 5
}
